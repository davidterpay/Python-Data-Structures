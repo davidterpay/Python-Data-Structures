{
 "cells": [
  {
   "cell_type": "markdown",
   "metadata": {},
   "source": [
    "## AVL Trees\n",
    "#### Written by David Terpay\n",
    "This notebook will demonstrate some of the functionality of the AVL tree class I built. You can check it out in the avltree.py file as well as the attached classes found in the Binary_Tree folder (I used this as my backend implementation). I inherited the Binary_Tree class and build the AVL_tree on top of this class.\n",
    "The documentation and all of the functionality as well as decriptions can be found at the bottom of this notebook.\n",
    "\n",
    "\n",
    "NOTE:\n",
    "properties() takes care of calling nearly all the important functions in the BinarySeachTree class (apart from a few fun and challanging ones). You can individually call every single function by finding its name and making sure you know how to deal with the return type. \n",
    "\n",
    "***some functions do not return numerical data but the treenode objects themselves***"
   ]
  },
  {
   "cell_type": "markdown",
   "metadata": {},
   "source": [
    "### Time to mess around!\n",
    "First let's create a AVL tree with a few treenodes! We will also create a Binary seach tree that has the exact same data and is inserted in the same way"
   ]
  },
  {
   "cell_type": "code",
   "execution_count": 1,
   "metadata": {},
   "outputs": [],
   "source": [
    "import sys\n",
    "sys.path.append('../')\n",
    "from AVL_Trees import avltree\n",
    "from Binary_Tree import binarytree\n",
    "import random\n",
    "bst = binarytree.BinarySearchTree()\n",
    "avl = avltree.AVLTree()\n",
    "lst = [random.randint(-100,100) for __ in range(10)]\n",
    "\n",
    "avl.insertPythonList(lst)\n",
    "for num in lst:\n",
    "    bst.insert(num)"
   ]
  },
  {
   "cell_type": "markdown",
   "metadata": {},
   "source": [
    "### Let's take a look at what our AVL tree looks like.\n",
    "Note: this will be view horizontally not vertically. I have not implemented a printpretty function yet.\n",
    "\n",
    "We compare this to the binary search tree that would have been created"
   ]
  },
  {
   "cell_type": "code",
   "execution_count": 2,
   "metadata": {},
   "outputs": [
    {
     "name": "stdout",
     "output_type": "stream",
     "text": [
      "This is the AVL tree and the root is :\n",
      "-----------------\n",
      "   Data: -51\n",
      "  Parent: None\n",
      "\n",
      "  LC \tRC \n",
      "  -80\t-15\n",
      "-----------------\n",
      "\n",
      "\n",
      "\n",
      "          58\n",
      "\n",
      "               21\n",
      "\n",
      "     -15\n",
      "\n",
      "          -35\n",
      "\n",
      "-51\n",
      "\n",
      "          -64\n",
      "\n",
      "               -67\n",
      "\n",
      "     -80\n",
      "\n",
      "          -97\n",
      "\n",
      "\n",
      "This is the BST and the root is :\n",
      "-----------------\n",
      "   Data: -80\n",
      "  Parent: None\n",
      "\n",
      "  LC \tRC \n",
      "  -97\t-35\n",
      "-----------------\n",
      "\n",
      "\n",
      "\n",
      "          58\n",
      "\n",
      "                    21\n",
      "\n",
      "               -15\n",
      "\n",
      "     -35\n",
      "\n",
      "               -51\n",
      "\n",
      "          -64\n",
      "\n",
      "               -67\n",
      "\n",
      "-80\n",
      "\n",
      "     -97\n"
     ]
    }
   ],
   "source": [
    "print(\"This is the AVL tree and the root is :\")\n",
    "print(avl.root)\n",
    "print(avl)\n",
    "print(\"\\n\\nThis is the BST and the root is :\")\n",
    "print(bst.root)\n",
    "print(bst)"
   ]
  },
  {
   "cell_type": "markdown",
   "metadata": {},
   "source": [
    "### Let's look at the properties of our AVL tree.\n",
    "Properties will return a dictionary of all of the attributes of the BST. printProperties will only print all of the properties as if it were in a dictionary. I implemented all of these properties as seperate functions in the binarytree.py file. You can call the individual functions if need be (read documentation as to what is returned). \n",
    "\n",
    "Properties within the dictionary:\n",
    "\n",
    "#### Nodes: \n",
    "Number of nodes in the bst\n",
    "\n",
    "#### Height: \n",
    "The height of our bst\n",
    "\n",
    "#### Longest Path: \n",
    "Returns a list of the longest path (only the data, not the nodes themselves) from root to leaf node\n",
    "\n",
    "#### Sum Distances: \n",
    "Returns the sum of the distances from the root to every single node in the BST\n",
    "\n",
    "#### Perfect: \n",
    "Checks if our tree is perfect\n",
    "\n",
    "#### Complete: \n",
    "Checks if our tree is complete\n",
    "\n",
    "#### Full: \n",
    "Checks if our tree is full\n",
    "\n",
    "#### Balanced: \n",
    "Checks if our tree is balanced\n",
    "\n",
    "#### Balance Factor: \n",
    "Returns the balance factor in our BST\n",
    "\n",
    "#### Traversals: \n",
    "Inorder, preorder, postorder, and levelorder"
   ]
  },
  {
   "cell_type": "code",
   "execution_count": 3,
   "metadata": {},
   "outputs": [
    {
     "name": "stdout",
     "output_type": "stream",
     "text": [
      "Properties of our AVL tree\n",
      "{\n",
      "Nodes : 9\n",
      "Height : 3\n",
      "Longest Path : [-51, -80, -64, -67]\n",
      "Sum Distances : 16\n",
      "Perfect : False\n",
      "Complete : False\n",
      "Full : False\n",
      "Balanced : True\n",
      "Balance Factor : 0\n",
      "Inorder Traversal : [-97, -80, -67, -64, -51, -35, -15, 21, 58]\n",
      "Preorder Traversal : [-51, -80, -97, -64, -67, -15, -35, 58, 21]\n",
      "Postorder Traversal : [-97, -67, -64, -80, -35, 21, 58, -15, -51]\n",
      "Level order Traversal : [-51, -80, -15, -97, -64, -35, 58, -67, 21]\n",
      "}\n",
      "Properties of our BST\n",
      "{\n",
      "Nodes : 9\n",
      "Height : 4\n",
      "Longest Path : [-80, -35, 58, -15, 21]\n",
      "Sum Distances : 19\n",
      "Perfect : False\n",
      "Complete : False\n",
      "Full : False\n",
      "Balanced : False\n",
      "Balance Factor : 3\n",
      "Inorder Traversal : [-97, -80, -67, -64, -51, -35, -15, 21, 58]\n",
      "Preorder Traversal : [-80, -97, -35, -64, -67, -51, 58, -15, 21]\n",
      "Postorder Traversal : [-97, -67, -51, -64, 21, -15, 58, -35, -80]\n",
      "Level order Traversal : [-80, -97, -35, -64, 58, -67, -51, -15, 21]\n",
      "}\n"
     ]
    }
   ],
   "source": [
    "print(\"Properties of our AVL tree\")\n",
    "avl.printProperties()\n",
    "print(\"Properties of our BST\")\n",
    "bst.printProperties()"
   ]
  },
  {
   "cell_type": "markdown",
   "metadata": {},
   "source": [
    "### Let's print all of the paths in our AVL tree. \n",
    "Note: This will print all of the paths from our root to leaf nodes only. It does not print paths to internal nodes."
   ]
  },
  {
   "cell_type": "code",
   "execution_count": 4,
   "metadata": {},
   "outputs": [
    {
     "name": "stdout",
     "output_type": "stream",
     "text": [
      "Paths of our AVL tree\n",
      "[[-51, -80, -97], [-51, -80, -64, -67], [-51, -15, -35], [-51, -15, 58, 21]]\n",
      "Paths of our BST\n",
      "[[-80, -97], [-80, -35, -64, -67], [-80, -35, -64, -51], [-80, -35, 58, -15, 21]]\n"
     ]
    }
   ],
   "source": [
    "print(\"Paths of our AVL tree\")\n",
    "print(avl.printPaths())\n",
    "print(\"Paths of our BST\")\n",
    "print(bst.printPaths())"
   ]
  },
  {
   "cell_type": "markdown",
   "metadata": {},
   "source": [
    "### Let's convert our AVL tree to a linked list."
   ]
  },
  {
   "cell_type": "code",
   "execution_count": 5,
   "metadata": {},
   "outputs": [
    {
     "name": "stdout",
     "output_type": "stream",
     "text": [
      "\n",
      "Node : 1\n",
      "\n",
      "----------------------------------------------------\n",
      "This Node has the following attributes: \n",
      "\tdata: 58 \n",
      "\tnext data: 21 \n",
      "\tprev data: None\n",
      "----------------------------------------------------\n",
      "\tn | \t^ p\n",
      "\te | \t| r\n",
      "\tx | \t| e\n",
      "\tt V \t| v\n",
      "\n",
      "Node : 2\n",
      "\n",
      "----------------------------------------------------\n",
      "This Node has the following attributes: \n",
      "\tdata: 21 \n",
      "\tnext data: -15 \n",
      "\tprev data: 58\n",
      "----------------------------------------------------\n",
      "\tn | \t^ p\n",
      "\te | \t| r\n",
      "\tx | \t| e\n",
      "\tt V \t| v\n",
      "\n",
      "Node : 3\n",
      "\n",
      "----------------------------------------------------\n",
      "This Node has the following attributes: \n",
      "\tdata: -15 \n",
      "\tnext data: -35 \n",
      "\tprev data: 21\n",
      "----------------------------------------------------\n",
      "\tn | \t^ p\n",
      "\te | \t| r\n",
      "\tx | \t| e\n",
      "\tt V \t| v\n",
      "\n",
      "Node : 4\n",
      "\n",
      "----------------------------------------------------\n",
      "This Node has the following attributes: \n",
      "\tdata: -35 \n",
      "\tnext data: -51 \n",
      "\tprev data: -15\n",
      "----------------------------------------------------\n",
      "\tn | \t^ p\n",
      "\te | \t| r\n",
      "\tx | \t| e\n",
      "\tt V \t| v\n",
      "\n",
      "Node : 5\n",
      "\n",
      "----------------------------------------------------\n",
      "This Node has the following attributes: \n",
      "\tdata: -51 \n",
      "\tnext data: -64 \n",
      "\tprev data: -35\n",
      "----------------------------------------------------\n",
      "\tn | \t^ p\n",
      "\te | \t| r\n",
      "\tx | \t| e\n",
      "\tt V \t| v\n",
      "\n",
      "Node : 6\n",
      "\n",
      "----------------------------------------------------\n",
      "This Node has the following attributes: \n",
      "\tdata: -64 \n",
      "\tnext data: -67 \n",
      "\tprev data: -51\n",
      "----------------------------------------------------\n",
      "\tn | \t^ p\n",
      "\te | \t| r\n",
      "\tx | \t| e\n",
      "\tt V \t| v\n",
      "\n",
      "Node : 7\n",
      "\n",
      "----------------------------------------------------\n",
      "This Node has the following attributes: \n",
      "\tdata: -67 \n",
      "\tnext data: -80 \n",
      "\tprev data: -64\n",
      "----------------------------------------------------\n",
      "\tn | \t^ p\n",
      "\te | \t| r\n",
      "\tx | \t| e\n",
      "\tt V \t| v\n",
      "\n",
      "Node : 8\n",
      "\n",
      "----------------------------------------------------\n",
      "This Node has the following attributes: \n",
      "\tdata: -80 \n",
      "\tnext data: -97 \n",
      "\tprev data: -67\n",
      "----------------------------------------------------\n",
      "\tn | \t^ p\n",
      "\te | \t| r\n",
      "\tx | \t| e\n",
      "\tt V \t| v\n",
      "\n",
      "Node : 9\n",
      "\n",
      "----------------------------------------------------\n",
      "This Node has the following attributes: \n",
      "\tdata: -97 \n",
      "\tnext data: None \n",
      "\tprev data: -80\n",
      "----------------------------------------------------\n"
     ]
    }
   ],
   "source": [
    "linked = avl.bstToLinkedLst()\n",
    "print(linked)"
   ]
  },
  {
   "cell_type": "markdown",
   "metadata": {},
   "source": [
    "### Let's try removing some nodes in our tree\n"
   ]
  },
  {
   "cell_type": "markdown",
   "metadata": {},
   "source": [
    "Case one: No child removal"
   ]
  },
  {
   "cell_type": "code",
   "execution_count": 6,
   "metadata": {},
   "outputs": [
    {
     "name": "stdout",
     "output_type": "stream",
     "text": [
      "AVL tree\n",
      "\n",
      "\n",
      "          58\n",
      "\n",
      "     -15\n",
      "\n",
      "          -35\n",
      "\n",
      "-51\n",
      "\n",
      "          -64\n",
      "\n",
      "               -67\n",
      "\n",
      "     -80\n",
      "\n",
      "          -97\n",
      "\n",
      "\n",
      "\n",
      "BST\n",
      "\n",
      "\n",
      "          58\n",
      "\n",
      "               -15\n",
      "\n",
      "     -35\n",
      "\n",
      "               -51\n",
      "\n",
      "          -64\n",
      "\n",
      "               -67\n",
      "\n",
      "-80\n",
      "\n",
      "     -97\n"
     ]
    }
   ],
   "source": [
    "avl.remove(21)\n",
    "bst.remove(21)\n",
    "print(\"AVL tree\")\n",
    "print(avl)\n",
    "print(\"\\n\\n\\nBST\")\n",
    "print(bst)"
   ]
  },
  {
   "cell_type": "markdown",
   "metadata": {},
   "source": [
    "Case two: One child removal"
   ]
  },
  {
   "cell_type": "code",
   "execution_count": null,
   "metadata": {},
   "outputs": [],
   "source": [
    "avl.remove(22)\n",
    "bst.remove(22)\n",
    "print(\"AVL tree\")\n",
    "print(avl)\n",
    "print(\"\\n\\n\\nBST\")\n",
    "print(bst)"
   ]
  },
  {
   "cell_type": "markdown",
   "metadata": {},
   "source": [
    "Case three: Two child removal"
   ]
  },
  {
   "cell_type": "code",
   "execution_count": null,
   "metadata": {},
   "outputs": [],
   "source": [
    "avl.remove(-9)\n",
    "bst.remove(-9)\n",
    "print(\"AVL tree\")\n",
    "print(avl)\n",
    "print(\"\\n\\n\\nBST\")\n",
    "print(bst)"
   ]
  },
  {
   "cell_type": "markdown",
   "metadata": {},
   "source": [
    "### Functionality of the AVL Tree class.\n",
    "Note the code for the functions will not be seen here. You will need to go to the .py files for that"
   ]
  },
  {
   "cell_type": "code",
   "execution_count": null,
   "metadata": {},
   "outputs": [],
   "source": [
    "dir(help(avltree))"
   ]
  },
  {
   "cell_type": "code",
   "execution_count": null,
   "metadata": {
    "collapsed": true
   },
   "outputs": [],
   "source": []
  }
 ],
 "metadata": {
  "kernelspec": {
   "display_name": "Python 3",
   "language": "python",
   "name": "python3"
  },
  "language_info": {
   "codemirror_mode": {
    "name": "ipython",
    "version": 3
   },
   "file_extension": ".py",
   "mimetype": "text/x-python",
   "name": "python",
   "nbconvert_exporter": "python",
   "pygments_lexer": "ipython3",
   "version": "3.6.1"
  }
 },
 "nbformat": 4,
 "nbformat_minor": 2
}
