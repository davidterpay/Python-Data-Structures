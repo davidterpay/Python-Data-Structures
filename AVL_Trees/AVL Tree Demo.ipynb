{
 "cells": [
  {
   "cell_type": "markdown",
   "metadata": {},
   "source": [
    "## AVL Trees\n",
    "#### Written by David Terpay\n",
    "This notebook will demonstrate some of the functionality of the AVL tree class I built. You can check it out in the avltree.py file as well as the attached classes found in the Binary_Tree folder (I used this as my backend implementation). I inherited the Binary_Tree class and build the AVL_tree on top of this class.\n",
    "The documentation and all of the functionality as well as decriptions can be found at the bottom of this notebook.\n",
    "\n",
    "\n",
    "NOTE:\n",
    "properties() takes care of calling nearly all the important functions in the BinarySeachTree class (apart from a few fun and challanging ones). You can individually call every single function by finding its name and making sure you know how to deal with the return type. \n",
    "\n",
    "***some functions do not return numerical data but the treenode objects themselves***"
   ]
  },
  {
   "cell_type": "markdown",
   "metadata": {},
   "source": [
    "### Time to mess around!\n",
    "First let's create a AVL tree with a few treenodes! We will also create a Binary seach tree that has the exact same data and is inserted in the same way"
   ]
  },
  {
   "cell_type": "code",
   "execution_count": 1,
   "metadata": {
    "collapsed": true
   },
   "outputs": [],
   "source": [
    "import sys\n",
    "sys.path.append('../')\n",
    "from AVL_Trees import avltree\n",
    "from Binary_Tree import binarytree\n",
    "import random\n",
    "bst = binarytree.BinarySearchTree()\n",
    "avl = avltree.AVLTree()\n",
    "lst = [random.randint(-100,100) for __ in range(10)]\n",
    "\n",
    "avl.insertPythonList(lst)\n",
    "for num in lst:\n",
    "    bst.insert(num)"
   ]
  },
  {
   "cell_type": "markdown",
   "metadata": {},
   "source": [
    "### Let's take a look at what our AVL tree looks like.\n",
    "Note: this will be view horizontally not vertically. I have not implemented a printpretty function yet.\n",
    "\n",
    "We compare this to the binary search tree that would have been created"
   ]
  },
  {
   "cell_type": "code",
   "execution_count": 2,
   "metadata": {},
   "outputs": [
    {
     "name": "stdout",
     "output_type": "stream",
     "text": [
      "This is the AVL tree and the root is :\n",
      "-----------------\n",
      "   Data: -6\n",
      "  Parent: None\n",
      "\n",
      "  LC \tRC \n",
      "  -94\t47\n",
      "-----------------\n",
      "\n",
      "\n",
      "\n",
      "               71\n",
      "\n",
      "          56\n",
      "\n",
      "               54\n",
      "\n",
      "     47\n",
      "\n",
      "          30\n",
      "\n",
      "               22\n",
      "\n",
      "-6\n",
      "\n",
      "          -76\n",
      "\n",
      "     -94\n",
      "\n",
      "          -95\n",
      "\n",
      "\n",
      "This is the BST and the root is :\n",
      "-----------------\n",
      "   Data: -76\n",
      "  Parent: None\n",
      "\n",
      "  LC \tRC \n",
      "  -94\t54\n",
      "-----------------\n",
      "\n",
      "\n",
      "\n",
      "               71\n",
      "\n",
      "          56\n",
      "\n",
      "     54\n",
      "\n",
      "                    47\n",
      "\n",
      "               30\n",
      "\n",
      "                    22\n",
      "\n",
      "          -6\n",
      "\n",
      "-76\n",
      "\n",
      "     -94\n",
      "\n",
      "          -95\n"
     ]
    }
   ],
   "source": [
    "print(\"This is the AVL tree and the root is :\")\n",
    "print(avl.root)\n",
    "print(avl)\n",
    "print(\"\\n\\nThis is the BST and the root is :\")\n",
    "print(bst.root)\n",
    "print(bst)"
   ]
  },
  {
   "cell_type": "markdown",
   "metadata": {},
   "source": [
    "### Let's look at the properties of our AVL tree.\n",
    "Properties will return a dictionary of all of the attributes of the BST. printProperties will only print all of the properties as if it were in a dictionary. I implemented all of these properties as seperate functions in the binarytree.py file. You can call the individual functions if need be (read documentation as to what is returned). \n",
    "\n",
    "Properties within the dictionary:\n",
    "\n",
    "#### Nodes: \n",
    "Number of nodes in the bst\n",
    "\n",
    "#### Height: \n",
    "The height of our bst\n",
    "\n",
    "#### Longest Path: \n",
    "Returns a list of the longest path (only the data, not the nodes themselves) from root to leaf node\n",
    "\n",
    "#### Sum Distances: \n",
    "Returns the sum of the distances from the root to every single node in the BST\n",
    "\n",
    "#### Perfect: \n",
    "Checks if our tree is perfect\n",
    "\n",
    "#### Complete: \n",
    "Checks if our tree is complete\n",
    "\n",
    "#### Full: \n",
    "Checks if our tree is full\n",
    "\n",
    "#### Balanced: \n",
    "Checks if our tree is balanced\n",
    "\n",
    "#### Balance Factor: \n",
    "Returns the balance factor in our BST\n",
    "\n",
    "#### Traversals: \n",
    "Inorder, preorder, postorder, and levelorder"
   ]
  },
  {
   "cell_type": "code",
   "execution_count": 3,
   "metadata": {},
   "outputs": [
    {
     "name": "stdout",
     "output_type": "stream",
     "text": [
      "Properties of our AVL tree\n",
      "{\n",
      "Nodes : 10\n",
      "Height : 3\n",
      "Longest Path : [-6, 47, 30, 22]\n",
      "Sum Distances : 19\n",
      "Perfect : False\n",
      "Complete : True\n",
      "Full : False\n",
      "Balanced : True\n",
      "Balance Factor : 1\n",
      "Inorder Traversal : [-95, -94, -76, -6, 22, 30, 47, 54, 56, 71]\n",
      "Preorder Traversal : [-6, -94, -95, -76, 47, 30, 22, 56, 54, 71]\n",
      "Postorder Traversal : [-95, -76, -94, 22, 30, 54, 71, 56, 47, -6]\n",
      "Level order Traversal : [-6, -94, 47, -95, -76, 30, 56, 22, 54, 71]\n",
      "}\n",
      "Properties of our BST\n",
      "{\n",
      "Nodes : 10\n",
      "Height : 4\n",
      "Longest Path : [-76, 54, -6, 30, 22]\n",
      "Sum Distances : 22\n",
      "Perfect : False\n",
      "Complete : False\n",
      "Full : False\n",
      "Balanced : False\n",
      "Balance Factor : 2\n",
      "Inorder Traversal : [-95, -94, -76, -6, 22, 30, 47, 54, 56, 71]\n",
      "Preorder Traversal : [-76, -94, -95, 54, -6, 30, 22, 47, 56, 71]\n",
      "Postorder Traversal : [-95, -94, 22, 47, 30, -6, 71, 56, 54, -76]\n",
      "Level order Traversal : [-76, -94, 54, -95, -6, 56, 30, 71, 22, 47]\n",
      "}\n"
     ]
    }
   ],
   "source": [
    "print(\"Properties of our AVL tree\")\n",
    "avl.printProperties()\n",
    "print(\"Properties of our BST\")\n",
    "bst.printProperties()"
   ]
  },
  {
   "cell_type": "markdown",
   "metadata": {},
   "source": [
    "### Let's print all of the paths in our AVL tree. \n",
    "Note: This will print all of the paths from our root to leaf nodes only. It does not print paths to internal nodes."
   ]
  },
  {
   "cell_type": "code",
   "execution_count": 4,
   "metadata": {},
   "outputs": [
    {
     "name": "stdout",
     "output_type": "stream",
     "text": [
      "Paths of our AVL tree\n",
      "[[-6, -94, -95], [-6, -94, -76], [-6, 47, 30, 22], [-6, 47, 56, 54], [-6, 47, 56, 71]]\n",
      "Paths of our BST\n",
      "[[-76, -94, -95], [-76, 54, -6, 30, 22], [-76, 54, -6, 30, 47], [-76, 54, 56, 71]]\n"
     ]
    }
   ],
   "source": [
    "print(\"Paths of our AVL tree\")\n",
    "print(avl.printPaths())\n",
    "print(\"Paths of our BST\")\n",
    "print(bst.printPaths())"
   ]
  },
  {
   "cell_type": "markdown",
   "metadata": {},
   "source": [
    "### Let's convert our AVL tree to a linked list."
   ]
  },
  {
   "cell_type": "code",
   "execution_count": 5,
   "metadata": {},
   "outputs": [
    {
     "name": "stdout",
     "output_type": "stream",
     "text": [
      "\n",
      "Node : 1\n",
      "\n",
      "----------------------------------------------------\n",
      "This Node has the following attributes: \n",
      "\tdata: 71 \n",
      "\tnext data: 56 \n",
      "\tprev data: None\n",
      "----------------------------------------------------\n",
      "\tn | \t^ p\n",
      "\te | \t| r\n",
      "\tx | \t| e\n",
      "\tt V \t| v\n",
      "\n",
      "Node : 2\n",
      "\n",
      "----------------------------------------------------\n",
      "This Node has the following attributes: \n",
      "\tdata: 56 \n",
      "\tnext data: 54 \n",
      "\tprev data: 71\n",
      "----------------------------------------------------\n",
      "\tn | \t^ p\n",
      "\te | \t| r\n",
      "\tx | \t| e\n",
      "\tt V \t| v\n",
      "\n",
      "Node : 3\n",
      "\n",
      "----------------------------------------------------\n",
      "This Node has the following attributes: \n",
      "\tdata: 54 \n",
      "\tnext data: 47 \n",
      "\tprev data: 56\n",
      "----------------------------------------------------\n",
      "\tn | \t^ p\n",
      "\te | \t| r\n",
      "\tx | \t| e\n",
      "\tt V \t| v\n",
      "\n",
      "Node : 4\n",
      "\n",
      "----------------------------------------------------\n",
      "This Node has the following attributes: \n",
      "\tdata: 47 \n",
      "\tnext data: 30 \n",
      "\tprev data: 54\n",
      "----------------------------------------------------\n",
      "\tn | \t^ p\n",
      "\te | \t| r\n",
      "\tx | \t| e\n",
      "\tt V \t| v\n",
      "\n",
      "Node : 5\n",
      "\n",
      "----------------------------------------------------\n",
      "This Node has the following attributes: \n",
      "\tdata: 30 \n",
      "\tnext data: 22 \n",
      "\tprev data: 47\n",
      "----------------------------------------------------\n",
      "\tn | \t^ p\n",
      "\te | \t| r\n",
      "\tx | \t| e\n",
      "\tt V \t| v\n",
      "\n",
      "Node : 6\n",
      "\n",
      "----------------------------------------------------\n",
      "This Node has the following attributes: \n",
      "\tdata: 22 \n",
      "\tnext data: -6 \n",
      "\tprev data: 30\n",
      "----------------------------------------------------\n",
      "\tn | \t^ p\n",
      "\te | \t| r\n",
      "\tx | \t| e\n",
      "\tt V \t| v\n",
      "\n",
      "Node : 7\n",
      "\n",
      "----------------------------------------------------\n",
      "This Node has the following attributes: \n",
      "\tdata: -6 \n",
      "\tnext data: -76 \n",
      "\tprev data: 22\n",
      "----------------------------------------------------\n",
      "\tn | \t^ p\n",
      "\te | \t| r\n",
      "\tx | \t| e\n",
      "\tt V \t| v\n",
      "\n",
      "Node : 8\n",
      "\n",
      "----------------------------------------------------\n",
      "This Node has the following attributes: \n",
      "\tdata: -76 \n",
      "\tnext data: -94 \n",
      "\tprev data: -6\n",
      "----------------------------------------------------\n",
      "\tn | \t^ p\n",
      "\te | \t| r\n",
      "\tx | \t| e\n",
      "\tt V \t| v\n",
      "\n",
      "Node : 9\n",
      "\n",
      "----------------------------------------------------\n",
      "This Node has the following attributes: \n",
      "\tdata: -94 \n",
      "\tnext data: -95 \n",
      "\tprev data: -76\n",
      "----------------------------------------------------\n",
      "\tn | \t^ p\n",
      "\te | \t| r\n",
      "\tx | \t| e\n",
      "\tt V \t| v\n",
      "\n",
      "Node : 10\n",
      "\n",
      "----------------------------------------------------\n",
      "This Node has the following attributes: \n",
      "\tdata: -95 \n",
      "\tnext data: None \n",
      "\tprev data: -94\n",
      "----------------------------------------------------\n"
     ]
    }
   ],
   "source": [
    "linked = avl.bstToLinkedLst()\n",
    "print(linked)"
   ]
  },
  {
   "cell_type": "markdown",
   "metadata": {},
   "source": [
    "### Let's try removing some nodes in our tree\n"
   ]
  },
  {
   "cell_type": "markdown",
   "metadata": {},
   "source": [
    "Case one: No child removal"
   ]
  },
  {
   "cell_type": "code",
   "execution_count": 6,
   "metadata": {},
   "outputs": [
    {
     "name": "stdout",
     "output_type": "stream",
     "text": [
      "AVL tree\n",
      "\n",
      "\n",
      "          56\n",
      "\n",
      "               54\n",
      "\n",
      "     47\n",
      "\n",
      "          30\n",
      "\n",
      "               22\n",
      "\n",
      "-6\n",
      "\n",
      "          -76\n",
      "\n",
      "     -94\n",
      "\n",
      "          -95\n",
      "\n",
      "\n",
      "\n",
      "BST\n",
      "\n",
      "\n",
      "          56\n",
      "\n",
      "     54\n",
      "\n",
      "                    47\n",
      "\n",
      "               30\n",
      "\n",
      "                    22\n",
      "\n",
      "          -6\n",
      "\n",
      "-76\n",
      "\n",
      "     -94\n",
      "\n",
      "          -95\n"
     ]
    }
   ],
   "source": [
    "avl.remove(71)\n",
    "bst.remove(71)\n",
    "print(\"AVL tree\")\n",
    "print(avl)\n",
    "print(\"\\n\\n\\nBST\")\n",
    "print(bst)"
   ]
  },
  {
   "cell_type": "markdown",
   "metadata": {},
   "source": [
    "Case two: One child removal"
   ]
  },
  {
   "cell_type": "code",
   "execution_count": 11,
   "metadata": {},
   "outputs": [
    {
     "name": "stdout",
     "output_type": "stream",
     "text": [
      "-----------------\n",
      "   Data: 22\n",
      "  Parent: -6\n",
      "\n",
      "  LC \tRC \n",
      "  None\t47\n",
      "-----------------\n",
      "\n",
      "\n",
      "\n",
      "\n",
      "BST\n",
      "\n",
      "\n",
      "          56\n",
      "\n",
      "     54\n",
      "\n",
      "                    47\n",
      "\n",
      "               30\n",
      "\n",
      "                         47\n",
      "\n",
      "                    22\n",
      "\n",
      "          -6\n",
      "\n",
      "-76\n",
      "\n",
      "     -94\n",
      "\n",
      "          -95\n"
     ]
    }
   ],
   "source": [
    "# avl.remove(30)\n",
    "print(bst.find(22))\n",
    "# print(\"AVL tree\")\n",
    "# print(avl)\n",
    "print(\"\\n\\n\\nBST\")\n",
    "print(bst)"
   ]
  },
  {
   "cell_type": "markdown",
   "metadata": {},
   "source": [
    "Case three: Two child removal"
   ]
  },
  {
   "cell_type": "code",
   "execution_count": null,
   "metadata": {
    "collapsed": true
   },
   "outputs": [],
   "source": [
    "avl.remove(-9)\n",
    "bst.remove(-9)\n",
    "print(\"AVL tree\")\n",
    "print(avl)\n",
    "print(\"\\n\\n\\nBST\")\n",
    "print(bst)"
   ]
  },
  {
   "cell_type": "markdown",
   "metadata": {},
   "source": [
    "### Functionality of the AVL Tree class.\n",
    "Note the code for the functions will not be seen here. You will need to go to the .py files for that"
   ]
  },
  {
   "cell_type": "code",
   "execution_count": null,
   "metadata": {
    "collapsed": true
   },
   "outputs": [],
   "source": [
    "dir(help(avltree))"
   ]
  },
  {
   "cell_type": "code",
   "execution_count": null,
   "metadata": {
    "collapsed": true
   },
   "outputs": [],
   "source": []
  }
 ],
 "metadata": {
  "kernelspec": {
   "display_name": "Python 3",
   "language": "python",
   "name": "python3"
  },
  "language_info": {
   "codemirror_mode": {
    "name": "ipython",
    "version": 3
   },
   "file_extension": ".py",
   "mimetype": "text/x-python",
   "name": "python",
   "nbconvert_exporter": "python",
   "pygments_lexer": "ipython3",
   "version": "3.6.1"
  }
 },
 "nbformat": 4,
 "nbformat_minor": 2
}
