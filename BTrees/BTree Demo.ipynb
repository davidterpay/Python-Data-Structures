{
 "cells": [
  {
   "cell_type": "markdown",
   "metadata": {},
   "source": [
    "## BTrees\n",
    "#### Written by David Terpay\n",
    "This notebook will demonstrate some of the functionality of the BTree class I built. You can check it out in the btree.py file as well as the attached classes found in the BTree folder (I used this as my backend implementation). I \n",
    "The documentation and all of the functionality as well as decriptions can be found at the bottom of this notebook.\n",
    "\n",
    "I copied the properties from the btree.py file here so that we can understand what we see.\n",
    "\n",
    "#### BTree properties: \n",
    "A BTree of order m is an m-way tree.\n",
    "\n",
    "All keys within a node are ordered.\n",
    "\n",
    "All leaves contain no more than m - 1 keys.\n",
    "\n",
    "All internal nodes have exactly one more child than keys.\n",
    "\n",
    "Root node can be a leaf or have [2, m] children (because the only way to add a node is to grow).\n",
    "\n",
    "All non-root nodes have [ceiling(m/2), m] children.\n",
    "\n",
    "All leaves are on the same level.\n",
    "\n",
    "Order tells us how many keys can be in a node.\n",
    "    # of keys = m - 1 \n",
    "\n",
    "How big is a BTree going to get? \n",
    "\n",
    "    BTree is shorter than AVL:\n",
    "\n",
    "        AVL has 2 children → h = log2(n).\n",
    "\n",
    "        BTree has m children → h = logm(n).\n",
    "\n",
    "2 ciel(m / 2) ^ h - 1 = minimum number of keys in a btree of height h and order m\n",
    "\n",
    "m ^ (h + 1) - 1 = max number of keys in a btree of height h and order m"
   ]
  },
  {
   "cell_type": "markdown",
   "metadata": {},
   "source": [
    "### Time to mess around!\n",
    "First let's create a BTree of order 5 with a few nodes!"
   ]
  },
  {
   "cell_type": "code",
   "execution_count": 1,
   "metadata": {},
   "outputs": [
    {
     "name": "stdout",
     "output_type": "stream",
     "text": [
      "[-94, 86, -21, 88, 45, -40, 30, 25, 13, 71, -5, 75, -20, -74, -53, 3, 31, 36, -48, 98, -4, 84, -70, 90, -48, -34, -6, -44, 44, 43]\n"
     ]
    }
   ],
   "source": [
    "from btree import BTree\n",
    "from btreenode import BTreeNode\n",
    "import random\n",
    "tree = BTree(5)\n",
    "lst_data = [random.randint(-100,100) for x in range(30)]\n",
    "print(lst_data)\n",
    "for data in lst_data:\n",
    "    tree.insert(data, 'hmmm it worked')"
   ]
  },
  {
   "cell_type": "code",
   "execution_count": 2,
   "metadata": {},
   "outputs": [
    {
     "name": "stdout",
     "output_type": "stream",
     "text": [
      "Root --> Data: [13]   \n",
      "\n",
      "Data: [-53, -44, -21, -5]   Data: [31, 45, 86]   \n",
      "\n",
      "Data: [-94, -74, -70]   Data: [-48, -48]   Data: [-40, -34]   Data: [-20, -6]   Data: [-4, 3]   \n",
      "\n",
      "\n"
     ]
    }
   ],
   "source": [
    "print(tree)"
   ]
  },
  {
   "cell_type": "markdown",
   "metadata": {},
   "source": [
    "### Let's insert into the tree until we see a split and then let us understand what has happened."
   ]
  },
  {
   "cell_type": "code",
   "execution_count": 3,
   "metadata": {},
   "outputs": [
    {
     "name": "stdout",
     "output_type": "stream",
     "text": [
      "Root --> Data: [13]   \n",
      "\n",
      "Data: [-53, -44, -21, -5]   Data: [31, 45, 86]   \n",
      "\n",
      "Data: [-100, -94, -74, -70]   Data: [-48, -48]   Data: [-40, -34]   Data: [-20, -6]   Data: [-4, 3]   \n",
      "\n",
      "\n"
     ]
    }
   ],
   "source": [
    "tree.insert(-100,'value')\n",
    "print(tree)"
   ]
  },
  {
   "cell_type": "code",
   "execution_count": 4,
   "metadata": {},
   "outputs": [
    {
     "name": "stdout",
     "output_type": "stream",
     "text": [
      "Root --> Data: [-44, 13]   \n",
      "\n",
      "Data: [-94, -53]   Data: [-21, -5]   Data: [31, 45, 86]   \n",
      "\n",
      "Data: [-101, -100]   Data: [-74, -70]   Data: [-48, -48]   \n",
      "\n",
      "\n"
     ]
    }
   ],
   "source": [
    "tree.insert(-101,'value')\n",
    "print(tree)"
   ]
  },
  {
   "cell_type": "markdown",
   "metadata": {},
   "source": [
    "### As we can see, the order of the node was 'full' in that the number of keys in the node was equal to 'm' or the order.\n",
    "\n",
    "Once this happens, we recursively work our way up from the point of insertion and carefully split the node. When we split, we are throwing up the middle element, and are creating a new left and right child. Once we do this we have to ensure that previous children go to the correct child."
   ]
  },
  {
   "cell_type": "markdown",
   "metadata": {},
   "source": [
    "### Finally, let's find something in our tree\n",
    "\n",
    "The find function will automatically return the value stored inside the key with the corresponding datapair object."
   ]
  },
  {
   "cell_type": "code",
   "execution_count": 5,
   "metadata": {},
   "outputs": [
    {
     "name": "stdout",
     "output_type": "stream",
     "text": [
      "hmmm it worked\n"
     ]
    }
   ],
   "source": [
    "value = tree.find(-70)\n",
    "print(value)"
   ]
  },
  {
   "cell_type": "markdown",
   "metadata": {},
   "source": [
    "### Functionality of the BTree class.\n",
    "Note the code for the functions will not be seen here. You will need to go to the .py files for that"
   ]
  },
  {
   "cell_type": "code",
   "execution_count": 6,
   "metadata": {},
   "outputs": [
    {
     "name": "stdout",
     "output_type": "stream",
     "text": [
      "Help on module btree:\n",
      "\n",
      "NAME\n",
      "    btree\n",
      "\n",
      "CLASSES\n",
      "    builtins.object\n",
      "        BTree\n",
      "    \n",
      "    class BTree(builtins.object)\n",
      "     |  Methods defined here:\n",
      "     |  \n",
      "     |  __init__(self, order, root=None)\n",
      "     |      We will keep track of the order and root of our btree\n",
      "     |  \n",
      "     |  __str__(self)\n",
      "     |      String representation of our BTree\n",
      "     |  \n",
      "     |  find(self, key)\n",
      "     |      Find is quite simple. First we binary search the current node to see if our\n",
      "     |      keys is in the node. If the key is in the node, return the value stored in \n",
      "     |      that DataPair object. Otherwise, we have to find the child we would visit with \n",
      "     |      the given key. Once we find the index of the child using binarysearch once again,\n",
      "     |      we recurse into find once again and repeat the steps. However, if we are a leaf node, \n",
      "     |      and our key is not in the node, then it cannot possibly exist in our BTree so we\n",
      "     |      simply return None. We use the helper function __find here.\n",
      "     |      INPUT:\n",
      "     |          key: Key that needs to be found\n",
      "     |      OUTPUT:\n",
      "     |          Value in our datapair object with the corresponding key.\n",
      "     |  \n",
      "     |  insert(self, key, value)\n",
      "     |      Since we insert only at a leaf node, we must first find the correct leaf node\n",
      "     |      by binary searching the children stored in the current node we are looking at.\n",
      "     |      Once we find the child, we recurse to it, and then we insert the new datapair object\n",
      "     |      through binary searching the index we need to insert and then inserting. We also have\n",
      "     |      to check if our node is too large in which we then have to split it as given to use\n",
      "     |      by the btree properties mentioned in the btree.py file.\n",
      "     |  \n",
      "     |  split(self, parent, childIndex)\n",
      "     |      Insert a pointer into parent's children which will point to the\n",
      "     |      new right node. The new right node is empty at this point.\n",
      "     |      Insert the mid element from the child into its new position in the\n",
      "     |      parent's elements. At this point the median is still in the child.\n",
      "     |      Now we want to copy over the elements (and children) to the right\n",
      "     |      of the child median into the new right node, and make sure the left\n",
      "     |      node only has the elements (and children) to the left of the child\n",
      "     |      median.\n",
      "     |  \n",
      "     |  ----------------------------------------------------------------------\n",
      "     |  Data descriptors defined here:\n",
      "     |  \n",
      "     |  __dict__\n",
      "     |      dictionary for instance variables (if defined)\n",
      "     |  \n",
      "     |  __weakref__\n",
      "     |      list of weak references to the object (if defined)\n",
      "\n",
      "FILE\n",
      "    /Users/davidterpay/Desktop/Python-Data-Structures/BTrees/btree.py\n",
      "\n",
      "\n"
     ]
    },
    {
     "data": {
      "text/plain": [
       "['__bool__',\n",
       " '__class__',\n",
       " '__delattr__',\n",
       " '__dir__',\n",
       " '__doc__',\n",
       " '__eq__',\n",
       " '__format__',\n",
       " '__ge__',\n",
       " '__getattribute__',\n",
       " '__gt__',\n",
       " '__hash__',\n",
       " '__init__',\n",
       " '__init_subclass__',\n",
       " '__le__',\n",
       " '__lt__',\n",
       " '__ne__',\n",
       " '__new__',\n",
       " '__reduce__',\n",
       " '__reduce_ex__',\n",
       " '__repr__',\n",
       " '__setattr__',\n",
       " '__sizeof__',\n",
       " '__str__',\n",
       " '__subclasshook__']"
      ]
     },
     "execution_count": 6,
     "metadata": {},
     "output_type": "execute_result"
    }
   ],
   "source": [
    "import btree\n",
    "dir(help(btree))"
   ]
  },
  {
   "cell_type": "markdown",
   "metadata": {},
   "source": [
    "### Functionality of the DataPair class.\n",
    "Note the code for the functions will not be seen here. You will need to go to the .py files for that"
   ]
  },
  {
   "cell_type": "code",
   "execution_count": 7,
   "metadata": {},
   "outputs": [
    {
     "name": "stdout",
     "output_type": "stream",
     "text": [
      "Help on module datapair:\n",
      "\n",
      "NAME\n",
      "    datapair\n",
      "\n",
      "DESCRIPTION\n",
      "    This is a simple data structure that holds a key and value.\n",
      "    We will use this data structure to make up the backend way we \n",
      "    hold the data in our BTree.\n",
      "\n",
      "CLASSES\n",
      "    builtins.object\n",
      "        DataPair\n",
      "    \n",
      "    class DataPair(builtins.object)\n",
      "     |  Methods defined here:\n",
      "     |  \n",
      "     |  __eq__(self, other)\n",
      "     |      We are overloading the equal to operator to allow for less\n",
      "     |      code and more accesibility\n",
      "     |      INPUT:\n",
      "     |          other: Other node we are comparing\n",
      "     |      OUTPUT:\n",
      "     |          True if this instance's key is equal to other\n",
      "     |  \n",
      "     |  __gt__(self, other)\n",
      "     |      We are overloading the greater than operator to allow for less\n",
      "     |      code and more accesibility\n",
      "     |      INPUT:\n",
      "     |          other: Other node we are comparing\n",
      "     |      OUTPUT:\n",
      "     |          True if this instance's key is greater than other\n",
      "     |  \n",
      "     |  __init__(self, key=None, value=None)\n",
      "     |      A fancy key-value pair will make up our data in the BTree.\n",
      "     |      INPUT:\n",
      "     |          key: Key\n",
      "     |          value: Value\n",
      "     |      OUTPUT:\n",
      "     |          DataPair\n",
      "     |  \n",
      "     |  __lt__(self, other)\n",
      "     |      We are overloading the less than operator to allow for less\n",
      "     |      code and more accesibility\n",
      "     |      INPUT:\n",
      "     |          other: Other node we are comparing\n",
      "     |      OUTPUT:\n",
      "     |          True if this instance's key is smaller than other\n",
      "     |  \n",
      "     |  __str__(self)\n",
      "     |      String representation of our DataPair\n",
      "     |  \n",
      "     |  getValue(self)\n",
      "     |      Getter to retrieve the value in our DataPair object.\n",
      "     |  \n",
      "     |  setKey(self, key)\n",
      "     |      Setter to set the key in our DataPair object.\n",
      "     |  \n",
      "     |  setValue(self, value)\n",
      "     |      Setter to set the value in our DataPair object.\n",
      "     |  \n",
      "     |  ----------------------------------------------------------------------\n",
      "     |  Data descriptors defined here:\n",
      "     |  \n",
      "     |  __dict__\n",
      "     |      dictionary for instance variables (if defined)\n",
      "     |  \n",
      "     |  __weakref__\n",
      "     |      list of weak references to the object (if defined)\n",
      "     |  \n",
      "     |  ----------------------------------------------------------------------\n",
      "     |  Data and other attributes defined here:\n",
      "     |  \n",
      "     |  __hash__ = None\n",
      "\n",
      "FILE\n",
      "    /Users/davidterpay/Desktop/Python-Data-Structures/BTrees/datapair.py\n",
      "\n",
      "\n"
     ]
    },
    {
     "data": {
      "text/plain": [
       "['__bool__',\n",
       " '__class__',\n",
       " '__delattr__',\n",
       " '__dir__',\n",
       " '__doc__',\n",
       " '__eq__',\n",
       " '__format__',\n",
       " '__ge__',\n",
       " '__getattribute__',\n",
       " '__gt__',\n",
       " '__hash__',\n",
       " '__init__',\n",
       " '__init_subclass__',\n",
       " '__le__',\n",
       " '__lt__',\n",
       " '__ne__',\n",
       " '__new__',\n",
       " '__reduce__',\n",
       " '__reduce_ex__',\n",
       " '__repr__',\n",
       " '__setattr__',\n",
       " '__sizeof__',\n",
       " '__str__',\n",
       " '__subclasshook__']"
      ]
     },
     "execution_count": 7,
     "metadata": {},
     "output_type": "execute_result"
    }
   ],
   "source": [
    "import datapair\n",
    "dir(help(datapair))"
   ]
  },
  {
   "cell_type": "markdown",
   "metadata": {},
   "source": [
    "### Functionality of the BTreeNode class.\n",
    "Note the code for the functions will not be seen here. You will need to go to the .py files for that"
   ]
  },
  {
   "cell_type": "code",
   "execution_count": 8,
   "metadata": {},
   "outputs": [
    {
     "name": "stdout",
     "output_type": "stream",
     "text": [
      "Help on module btreenode:\n",
      "\n",
      "NAME\n",
      "    btreenode\n",
      "\n",
      "CLASSES\n",
      "    builtins.object\n",
      "        BTreeNode\n",
      "    \n",
      "    class BTreeNode(builtins.object)\n",
      "     |  Methods defined here:\n",
      "     |  \n",
      "     |  __init__(self, order, data=None, children=None)\n",
      "     |      In our btreenode we will keep track of three things:\n",
      "     |      the data, the children, and the order of our node.\n",
      "     |  \n",
      "     |  __len__(self)\n",
      "     |      Overloading the len() operator. Simply returns the length of our \n",
      "     |      data\n",
      "     |  \n",
      "     |  __str__(self)\n",
      "     |      Overloading str to give us a string representation of our \n",
      "     |      btreenode.\n",
      "     |  \n",
      "     |  binarySearch(self, left, right, datapair)\n",
      "     |      This is a helper function to find the index of the child we need to visit\n",
      "     |  \n",
      "     |  find(self, key)\n",
      "     |  \n",
      "     |  insert(self, key, value)\n",
      "     |      Since the BTree must maintain data that is sorted within our nodes,\n",
      "     |      we have to ensure that we insert into a tree in such a way that our data\n",
      "     |      remains sorted. This function will simply create a new datapair object,\n",
      "     |      with a given key and value, and will insert it into this node.\n",
      "     |      We use __insertSorted as a helper function here.\n",
      "     |      INPUT:\n",
      "     |          key: Key we will look at when traversing through our btree node\n",
      "     |          value: value we will store\n",
      "     |      OUTPUT:\n",
      "     |          New data member in our node.\n",
      "     |      \n",
      "     |      Runtime - O(lg(n)) - Since we are binary searching for the correct index to\n",
      "     |      insert at, our runtime is proportional to lg(n).\n",
      "     |  \n",
      "     |  insertDataPair(self, datapair)\n",
      "     |  \n",
      "     |  insertList(self, lst)\n",
      "     |      This function will allow user to input a list of datapair objects and \n",
      "     |      will sort them and initialize the data member of this node.\n",
      "     |      INPUT:\n",
      "     |          lst: List of DataPair objects\n",
      "     |      OUTPUT:\n",
      "     |          New node\n",
      "     |      \n",
      "     |      Runtime - O(nlg(n)) - Since mergesort takes O(nlg(n)) time our\n",
      "     |      insert list will also run in that time.\n",
      "     |  \n",
      "     |  isFull(self)\n",
      "     |      Helper function to see if our node is full\n",
      "     |  \n",
      "     |  isLeaf(self)\n",
      "     |      Helper function to see if our node is a leaf node aka no children\n",
      "     |  \n",
      "     |  mergesort(self, lst)\n",
      "     |      Merge sort is a sorting algorithm that splits the list of numbers\n",
      "     |      if half and then rebuilds the array upward. Once the size of each list\n",
      "     |      is = 1, we know that the list is sorted. Next, we simply merge two sorted \n",
      "     |      lists and return the list. This is premise behind merge sort.\n",
      "     |      INPUT:\n",
      "     |          lst: List of data\n",
      "     |      OUTPUT:\n",
      "     |          Sorted list of data\n",
      "     |      \n",
      "     |      Runtime - O(nlg(n)) - Since it takes O(lg(n)) to divide the list and O(n) to\n",
      "     |      rebuild our array, our algorithm takes a total of O(nlg(n)) time.\n",
      "     |  \n",
      "     |  ----------------------------------------------------------------------\n",
      "     |  Data descriptors defined here:\n",
      "     |  \n",
      "     |  __dict__\n",
      "     |      dictionary for instance variables (if defined)\n",
      "     |  \n",
      "     |  __weakref__\n",
      "     |      list of weak references to the object (if defined)\n",
      "\n",
      "FILE\n",
      "    /Users/davidterpay/Desktop/Python-Data-Structures/BTrees/btreenode.py\n",
      "\n",
      "\n"
     ]
    },
    {
     "data": {
      "text/plain": [
       "['__bool__',\n",
       " '__class__',\n",
       " '__delattr__',\n",
       " '__dir__',\n",
       " '__doc__',\n",
       " '__eq__',\n",
       " '__format__',\n",
       " '__ge__',\n",
       " '__getattribute__',\n",
       " '__gt__',\n",
       " '__hash__',\n",
       " '__init__',\n",
       " '__init_subclass__',\n",
       " '__le__',\n",
       " '__lt__',\n",
       " '__ne__',\n",
       " '__new__',\n",
       " '__reduce__',\n",
       " '__reduce_ex__',\n",
       " '__repr__',\n",
       " '__setattr__',\n",
       " '__sizeof__',\n",
       " '__str__',\n",
       " '__subclasshook__']"
      ]
     },
     "execution_count": 8,
     "metadata": {},
     "output_type": "execute_result"
    }
   ],
   "source": [
    "import btreenode\n",
    "dir(help(btreenode))"
   ]
  }
 ],
 "metadata": {
  "kernelspec": {
   "display_name": "Python 3",
   "language": "python",
   "name": "python3"
  },
  "language_info": {
   "codemirror_mode": {
    "name": "ipython",
    "version": 3
   },
   "file_extension": ".py",
   "mimetype": "text/x-python",
   "name": "python",
   "nbconvert_exporter": "python",
   "pygments_lexer": "ipython3",
   "version": "3.6.1"
  }
 },
 "nbformat": 4,
 "nbformat_minor": 2
}
