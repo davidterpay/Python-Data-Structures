{
 "cells": [
  {
   "cell_type": "markdown",
   "metadata": {},
   "source": [
    "## Disjoint Sets\n",
    "#### Written by David Terpay\n",
    "This notebook will demonstrate some of the functionality of the Disjoint Set class I built. You can check it out in the disjointset.py file.\n",
    "The documentation and all of the functionality as well as decriptions can be found at the bottom of this notebook."
   ]
  },
  {
   "cell_type": "markdown",
   "metadata": {},
   "source": [
    "### Time to mess around!\n",
    "First let's create a disjoint set with 10 items in it!"
   ]
  },
  {
   "cell_type": "code",
   "execution_count": 1,
   "metadata": {},
   "outputs": [
    {
     "name": "stdout",
     "output_type": "stream",
     "text": [
      "Size : 10\n",
      "\n",
      "Array : [2, -8, 7, 3, -7, 8, -3, 4, 2, -2]\n"
     ]
    }
   ],
   "source": [
    "from disjointset import DisjointSet\n",
    "ds = DisjointSet()\n",
    "ds.insertelements(10)\n",
    "print(ds)"
   ]
  },
  {
   "cell_type": "markdown",
   "metadata": {},
   "source": [
    "### Union\n",
    "Let's union index 0 and 1 together and see the resulting uptree and disjoint set array. The uptree will print the path of the indexes not the actual sizes stored in the disjoint set. I will explain after the upcoming example"
   ]
  },
  {
   "cell_type": "code",
   "execution_count": 2,
   "metadata": {},
   "outputs": [
    {
     "name": "stdout",
     "output_type": "stream",
     "text": [
      "Size : 10\n",
      "\n",
      "Array : [2, -8, 7, 3, -7, 8, -3, 4, 2, -2]\n",
      "\n",
      "^\n",
      "|\n",
      "2\n",
      "^\n",
      "|\n",
      "-8\n"
     ]
    }
   ],
   "source": [
    "ds.union(0,1)\n",
    "print(ds)\n",
    "print(ds.upTree(1))"
   ]
  },
  {
   "cell_type": "markdown",
   "metadata": {},
   "source": [
    "What the uptree shows us is that the first index does not have a negative value so we move onto find the index which has a negative value stored in it. Since 0 is stored in index 1, we move to index 0. At index 0 we have stored a -2, which is the negative size of our set. Since it is negative, we know that we have hit the representative element so we are done."
   ]
  },
  {
   "cell_type": "markdown",
   "metadata": {},
   "source": [
    "### More Unioning"
   ]
  },
  {
   "cell_type": "code",
   "execution_count": 3,
   "metadata": {},
   "outputs": [
    {
     "name": "stdout",
     "output_type": "stream",
     "text": [
      "index : 0\n",
      "Uptree \n",
      "^\n",
      "|\n",
      "3\n",
      "^\n",
      "|\n",
      "2\n",
      "\n",
      "\n",
      "index : 1\n",
      "Uptree \n",
      "^\n",
      "|\n",
      "3\n",
      "^\n",
      "|\n",
      "2\n",
      "^\n",
      "|\n",
      "-8\n",
      "\n",
      "\n",
      "index : 2\n",
      "Uptree \n",
      "^\n",
      "|\n",
      "3\n",
      "^\n",
      "|\n",
      "7\n",
      "\n",
      "\n",
      "index : 3\n",
      "Uptree \n",
      "^\n",
      "|\n",
      "3\n",
      "\n",
      "\n",
      "index : 4\n",
      "Uptree \n",
      "^\n",
      "|\n",
      "3\n",
      "^\n",
      "|\n",
      "-7\n",
      "\n",
      "\n",
      "index : 5\n",
      "Uptree \n",
      "^\n",
      "|\n",
      "8\n",
      "\n",
      "\n",
      "index : 6\n",
      "Uptree \n",
      "^\n",
      "|\n",
      "-3\n",
      "\n",
      "\n",
      "index : 7\n",
      "Uptree \n",
      "^\n",
      "|\n",
      "8\n",
      "^\n",
      "|\n",
      "4\n",
      "\n",
      "\n",
      "index : 8\n",
      "Uptree \n",
      "^\n",
      "|\n",
      "2\n",
      "\n",
      "\n",
      "index : 9\n",
      "Uptree \n",
      "^\n",
      "|\n",
      "2\n",
      "^\n",
      "|\n",
      "-2\n",
      "\n",
      "\n"
     ]
    }
   ],
   "source": [
    "ds.union(3,4)\n",
    "ds.union(5,7)\n",
    "ds.union(8,9)\n",
    "ds.union(2,3)\n",
    "ds.union(0,3)\n",
    "for index in range(len(ds)):\n",
    "    print(f'index : {index}\\nUptree {ds.upTree(index)}\\n\\n')"
   ]
  },
  {
   "cell_type": "markdown",
   "metadata": {},
   "source": [
    "### Find\n",
    "Since we use a path compression algorithm here, the path should be shortened right after calling find. I will explain in the coming example."
   ]
  },
  {
   "cell_type": "code",
   "execution_count": 4,
   "metadata": {},
   "outputs": [
    {
     "name": "stdout",
     "output_type": "stream",
     "text": [
      "\n",
      "^\n",
      "|\n",
      "3\n",
      "^\n",
      "|\n",
      "2\n",
      "^\n",
      "|\n",
      "-8\n",
      "\n",
      "^\n",
      "|\n",
      "3\n",
      "^\n",
      "|\n",
      "-8\n"
     ]
    }
   ],
   "source": [
    "#before calling find\n",
    "print(ds.upTree(1))\n",
    "#calling find(1)\n",
    "ds.find(1)\n",
    "print(ds.upTree(1))"
   ]
  },
  {
   "cell_type": "markdown",
   "metadata": {},
   "source": [
    "As we can see, we completely avoiding visiting index 0 and instead make the value stored in our index point directly to the representative index."
   ]
  },
  {
   "cell_type": "markdown",
   "metadata": {},
   "source": [
    "### Size\n",
    "size() will return the size of the set. It will find the representative element, and will return the negative of the value stored at the index of the representateive element."
   ]
  },
  {
   "cell_type": "code",
   "execution_count": 5,
   "metadata": {},
   "outputs": [
    {
     "name": "stdout",
     "output_type": "stream",
     "text": [
      "Size : 10\n",
      "\n",
      "Array : [2, -8, 7, 3, -7, 8, -3, 4, 2, -2]\n",
      "\n",
      "The size of the set which has index one in it is 5\n"
     ]
    }
   ],
   "source": [
    "print(ds)\n",
    "print('\\nThe size of the set which has index one in it is', ds.size(1))"
   ]
  },
  {
   "cell_type": "markdown",
   "metadata": {},
   "source": [
    "### Functionality of the Disjoint Set class.\n",
    "Note the code for the functions will not be seen here. You will need to go to the .py files for that"
   ]
  },
  {
   "cell_type": "code",
   "execution_count": 6,
   "metadata": {},
   "outputs": [
    {
     "name": "stdout",
     "output_type": "stream",
     "text": [
      "Help on module disjointset:\n",
      "\n",
      "NAME\n",
      "    disjointset\n",
      "\n",
      "CLASSES\n",
      "    builtins.object\n",
      "        DisjointSet\n",
      "    \n",
      "    class DisjointSet(builtins.object)\n",
      "     |  Methods defined here:\n",
      "     |  \n",
      "     |  __init__(self, lst=None)\n",
      "     |      We only need to keep track of the array in a disjoint set. Each element \n",
      "     |      can be mapped to an integer.\n",
      "     |  \n",
      "     |  __len__(self)\n",
      "     |      Overloading the len operator to give us a length representation of \n",
      "     |      our disjoint set.\n",
      "     |  \n",
      "     |  __str__(self)\n",
      "     |      Overloading the str operator to give us a string representation of \n",
      "     |      our disjoint set.\n",
      "     |  \n",
      "     |  find(self, position)\n",
      "     |      Find is simple. If at our index we have a negative vlaue, then we\n",
      "     |      are at the representative element. Otherwise, we have to search find\n",
      "     |      again with the index stored at the current indexes value in our array.\n",
      "     |      Additionally, when we are returning, we set the value of array[position] to \n",
      "     |      be the index. This helps significantly compress the path and allows \n",
      "     |      our runtime to be iterated log2() which is close enough to O(1) that we \n",
      "     |      can assume that our find function runs in O(1) time.\n",
      "     |      INPUT:\n",
      "     |          position: Position of the element in our disjoint set we are trying to \n",
      "     |              find the index of the representative element in our set.\n",
      "     |      OUTPUT:\n",
      "     |          Index of the representative element.\n",
      "     |  \n",
      "     |  insertelements(self, x)\n",
      "     |      This function will insert x number of new items into our array.\n",
      "     |      It automatically initializes the values store in each additional index\n",
      "     |      to -1. This means that we are at the representative element.\n",
      "     |      INPUT:\n",
      "     |          x: New number of elements to be inserted into our disjoint set.\n",
      "     |      OUTPUT:\n",
      "     |          x addition items in our array.\n",
      "     |  \n",
      "     |  size(self, index)\n",
      "     |      This function will return the size of our uptree or set. First\n",
      "     |      we find the index and then simply multiply by the -1 and return\n",
      "     |      INPUT:\n",
      "     |          index: index of the set we are looking at\n",
      "     |      OUTPUT:\n",
      "     |          size of the set or uptree\n",
      "     |  \n",
      "     |  union(self, set1, set2)\n",
      "     |      When we union two sets, we first make sure that we have to root of \n",
      "     |      the sets. Once we have the root we check which set is more negative (since\n",
      "     |      we are smart unioning by the size of each set). We also have to make sure\n",
      "     |      we collect the new size of the set by adding the contents of the two sets \n",
      "     |      together. \n",
      "     |      INPUT:\n",
      "     |          set1: First set\n",
      "     |          set2: Second set\n",
      "     |      OUTPUT:\n",
      "     |          Smart unioned set.\n",
      "     |  \n",
      "     |  upTree(self, index)\n",
      "     |      This is a simple function that will show us the uptree for a \n",
      "     |      given index or set.\n",
      "     |      INPUT:\n",
      "     |          index: Index of the set we want\n",
      "     |      OUTPUT:\n",
      "     |          String uptree\n",
      "     |  \n",
      "     |  ----------------------------------------------------------------------\n",
      "     |  Data descriptors defined here:\n",
      "     |  \n",
      "     |  __dict__\n",
      "     |      dictionary for instance variables (if defined)\n",
      "     |  \n",
      "     |  __weakref__\n",
      "     |      list of weak references to the object (if defined)\n",
      "\n",
      "FILE\n",
      "    /Users/davidterpay/Desktop/Python-Data-Structures/Disjoint_Sets/disjointset.py\n",
      "\n",
      "\n"
     ]
    },
    {
     "data": {
      "text/plain": [
       "['__bool__',\n",
       " '__class__',\n",
       " '__delattr__',\n",
       " '__dir__',\n",
       " '__doc__',\n",
       " '__eq__',\n",
       " '__format__',\n",
       " '__ge__',\n",
       " '__getattribute__',\n",
       " '__gt__',\n",
       " '__hash__',\n",
       " '__init__',\n",
       " '__init_subclass__',\n",
       " '__le__',\n",
       " '__lt__',\n",
       " '__ne__',\n",
       " '__new__',\n",
       " '__reduce__',\n",
       " '__reduce_ex__',\n",
       " '__repr__',\n",
       " '__setattr__',\n",
       " '__sizeof__',\n",
       " '__str__',\n",
       " '__subclasshook__']"
      ]
     },
     "execution_count": 6,
     "metadata": {},
     "output_type": "execute_result"
    }
   ],
   "source": [
    "import disjointset\n",
    "dir(help(disjointset))"
   ]
  }
 ],
 "metadata": {
  "kernelspec": {
   "display_name": "Python 3",
   "language": "python",
   "name": "python3"
  },
  "language_info": {
   "codemirror_mode": {
    "name": "ipython",
    "version": 3
   },
   "file_extension": ".py",
   "mimetype": "text/x-python",
   "name": "python",
   "nbconvert_exporter": "python",
   "pygments_lexer": "ipython3",
   "version": "3.6.1"
  }
 },
 "nbformat": 4,
 "nbformat_minor": 2
}
