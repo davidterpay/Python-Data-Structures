{
 "cells": [
  {
   "cell_type": "markdown",
   "metadata": {},
   "source": [
    "## Graphs\n",
    "#### Written by David Terpay\n",
    "This notebook will demonstrate some of the functionality of the Graph class I built. You can check it out in the graph.py file and the attached files (vertex.py, edge.py).\n",
    "\n",
    "The documentation and all of the functionality as well as decriptions can be found at the bottom of this notebook."
   ]
  },
  {
   "cell_type": "markdown",
   "metadata": {},
   "source": [
    "### Time to mess around!\n",
    "First let's create a Graph with 8 vertice and 13 edges in it!"
   ]
  },
  {
   "cell_type": "code",
   "execution_count": 9,
   "metadata": {},
   "outputs": [
    {
     "name": "stdout",
     "output_type": "stream",
     "text": [
      "Data: A\n",
      "Edges: ['Data: A', 'Data: D', 'Key: key', 'Visited: False', 'Discovery: False', 'Weight: 3'], ['Data: A', 'Data: C', 'Key: key', 'Visited: False', 'Discovery: False', 'Weight: 100'], ['Data: A', 'Data: B', 'Key: key', 'Visited: False', 'Discovery: False', 'Weight: 50']\n",
      "\n",
      "Data: B\n",
      "Edges: ['Data: B', 'Data: E', 'Key: key', 'Visited: False', 'Discovery: False', 'Weight: 20'], ['Data: B', 'Data: C', 'Key: key', 'Visited: False', 'Discovery: False', 'Weight: 14'], ['Data: A', 'Data: B', 'Key: key', 'Visited: False', 'Discovery: False', 'Weight: 50']\n",
      "\n",
      "Data: C\n",
      "Edges: ['Data: C', 'Data: F', 'Key: key', 'Visited: False', 'Discovery: False', 'Weight: 1'], ['Data: C', 'Data: D', 'Key: key', 'Visited: False', 'Discovery: False', 'Weight: 7'], ['Data: E', 'Data: C', 'Key: key', 'Visited: False', 'Discovery: False', 'Weight: 9'], ['Data: B', 'Data: C', 'Key: key', 'Visited: False', 'Discovery: False', 'Weight: 14'], ['Data: A', 'Data: C', 'Key: key', 'Visited: False', 'Discovery: False', 'Weight: 100']\n",
      "\n",
      "Data: D\n",
      "Edges: ['Data: F', 'Data: D', 'Key: key', 'Visited: False', 'Discovery: False', 'Weight: 3'], ['Data: C', 'Data: D', 'Key: key', 'Visited: False', 'Discovery: False', 'Weight: 7'], ['Data: H', 'Data: D', 'Key: key', 'Visited: False', 'Discovery: False', 'Weight: 10'], ['Data: A', 'Data: D', 'Key: key', 'Visited: False', 'Discovery: False', 'Weight: 3']\n",
      "\n",
      "Data: E\n",
      "Edges: ['Data: E', 'Data: G', 'Key: key', 'Visited: False', 'Discovery: False', 'Weight: 11'], ['Data: E', 'Data: C', 'Key: key', 'Visited: False', 'Discovery: False', 'Weight: 9'], ['Data: B', 'Data: E', 'Key: key', 'Visited: False', 'Discovery: False', 'Weight: 20']\n",
      "\n",
      "Data: F\n",
      "Edges: ['Data: F', 'Data: G', 'Key: key', 'Visited: False', 'Discovery: False', 'Weight: 130'], ['Data: C', 'Data: F', 'Key: key', 'Visited: False', 'Discovery: False', 'Weight: 1'], ['Data: F', 'Data: D', 'Key: key', 'Visited: False', 'Discovery: False', 'Weight: 3']\n",
      "\n",
      "Data: G\n",
      "Edges: ['Data: F', 'Data: G', 'Key: key', 'Visited: False', 'Discovery: False', 'Weight: 130'], ['Data: H', 'Data: G', 'Key: key', 'Visited: False', 'Discovery: False', 'Weight: 12'], ['Data: E', 'Data: G', 'Key: key', 'Visited: False', 'Discovery: False', 'Weight: 11']\n",
      "\n",
      "Data: H\n",
      "Edges: ['Data: H', 'Data: D', 'Key: key', 'Visited: False', 'Discovery: False', 'Weight: 10'], ['Data: H', 'Data: G', 'Key: key', 'Visited: False', 'Discovery: False', 'Weight: 12']\n",
      "\n",
      "\n"
     ]
    }
   ],
   "source": [
    "from graph import Graph\n",
    "g = Graph()\n",
    "g.insertVertex('A')\n",
    "g.insertVertex('B')\n",
    "g.insertVertex('C')\n",
    "g.insertVertex('D')\n",
    "g.insertVertex('E')\n",
    "g.insertVertex('F')\n",
    "g.insertVertex('G')\n",
    "g.insertVertex('H')\n",
    "# g.insertVertex('I')\n",
    "keys = list(g.vertices.keys())\n",
    "g.insertEdge(keys[0], keys[1],'key', 50)\n",
    "g.insertEdge(keys[0], keys[2], 'key', 100)\n",
    "g.insertEdge(keys[0], keys[3], 'key', 3)\n",
    "g.insertEdge(keys[1], keys[2], 'key', 14)\n",
    "g.insertEdge(keys[1], keys[4], 'key', 20)\n",
    "g.insertEdge(keys[4], keys[2], 'key', 9)\n",
    "g.insertEdge(keys[4], keys[6], 'key', 11)\n",
    "g.insertEdge(keys[7], keys[6], 'key', 12)\n",
    "g.insertEdge(keys[7], keys[3], 'key', 10)\n",
    "g.insertEdge(keys[2], keys[3], 'key', 7)\n",
    "g.insertEdge(keys[5], keys[3], 'key', 3)\n",
    "g.insertEdge(keys[2], keys[5], 'key', 1)\n",
    "g.insertEdge(keys[5], keys[6], 'key', 130)\n",
    "print(g)"
   ]
  },
  {
   "cell_type": "markdown",
   "metadata": {},
   "source": [
    "### Let's try out the degree function"
   ]
  },
  {
   "cell_type": "code",
   "execution_count": 10,
   "metadata": {},
   "outputs": [
    {
     "data": {
      "text/plain": [
       "3"
      ]
     },
     "execution_count": 10,
     "metadata": {},
     "output_type": "execute_result"
    }
   ],
   "source": [
    "g.degree(keys[0])"
   ]
  },
  {
   "cell_type": "markdown",
   "metadata": {},
   "source": [
    "### Let's try traversing our graph using a BFS"
   ]
  },
  {
   "cell_type": "code",
   "execution_count": 15,
   "metadata": {},
   "outputs": [
    {
     "name": "stdout",
     "output_type": "stream",
     "text": [
      "Data: A\n",
      "Data: D\n",
      "Data: C\n",
      "Data: B\n",
      "Data: F\n",
      "Data: H\n",
      "Data: E\n",
      "Data: G\n"
     ]
    }
   ],
   "source": [
    "g.bfs()\n",
    "g.connectedComponents = 0"
   ]
  },
  {
   "cell_type": "markdown",
   "metadata": {},
   "source": [
    "### Let's try traversing our graph using a DFS"
   ]
  },
  {
   "cell_type": "code",
   "execution_count": 16,
   "metadata": {},
   "outputs": [
    {
     "name": "stdout",
     "output_type": "stream",
     "text": [
      "Data: A\n",
      "Data: D\n",
      "Data: C\n",
      "Data: B\n",
      "Data: E\n",
      "Data: G\n",
      "Data: F\n",
      "Data: H\n"
     ]
    }
   ],
   "source": [
    "g.dfs()"
   ]
  },
  {
   "cell_type": "markdown",
   "metadata": {},
   "source": [
    "### Let's check if any cycles exist in our graph and the number of connected components we have"
   ]
  },
  {
   "cell_type": "code",
   "execution_count": 17,
   "metadata": {},
   "outputs": [
    {
     "name": "stdout",
     "output_type": "stream",
     "text": [
      "Do we have a cycle:  True\n",
      "How many connected components do we have:  1\n"
     ]
    }
   ],
   "source": [
    "print('Do we have a cycle: ', g.cyclesExist())\n",
    "print('How many connected components do we have: ',g.connectedComponents)"
   ]
  },
  {
   "cell_type": "markdown",
   "metadata": {},
   "source": [
    "### Let's create a minimum spanning tree using Kruskal's algorithm"
   ]
  },
  {
   "cell_type": "code",
   "execution_count": 18,
   "metadata": {},
   "outputs": [
    {
     "name": "stdout",
     "output_type": "stream",
     "text": [
      "Data: C\n",
      "Edges: ['Data: B', 'Data: C', 'Key: key', 'Visited: False', 'Discovery: False', 'Weight: 14'], ['Data: E', 'Data: C', 'Key: key', 'Visited: False', 'Discovery: False', 'Weight: 9'], ['Data: C', 'Data: F', 'Key: key', 'Visited: False', 'Discovery: False', 'Weight: 1']\n",
      "\n",
      "Data: F\n",
      "Edges: ['Data: F', 'Data: D', 'Key: key', 'Visited: False', 'Discovery: False', 'Weight: 3'], ['Data: C', 'Data: F', 'Key: key', 'Visited: False', 'Discovery: False', 'Weight: 1']\n",
      "\n",
      "Data: A\n",
      "Edges: ['Data: A', 'Data: D', 'Key: key', 'Visited: False', 'Discovery: False', 'Weight: 3']\n",
      "\n",
      "Data: D\n",
      "Edges: ['Data: H', 'Data: D', 'Key: key', 'Visited: False', 'Discovery: False', 'Weight: 10'], ['Data: F', 'Data: D', 'Key: key', 'Visited: False', 'Discovery: False', 'Weight: 3'], ['Data: A', 'Data: D', 'Key: key', 'Visited: False', 'Discovery: False', 'Weight: 3']\n",
      "\n",
      "Data: E\n",
      "Edges: ['Data: E', 'Data: G', 'Key: key', 'Visited: False', 'Discovery: False', 'Weight: 11'], ['Data: E', 'Data: C', 'Key: key', 'Visited: False', 'Discovery: False', 'Weight: 9']\n",
      "\n",
      "Data: H\n",
      "Edges: ['Data: H', 'Data: D', 'Key: key', 'Visited: False', 'Discovery: False', 'Weight: 10']\n",
      "\n",
      "Data: G\n",
      "Edges: ['Data: E', 'Data: G', 'Key: key', 'Visited: False', 'Discovery: False', 'Weight: 11']\n",
      "\n",
      "Data: B\n",
      "Edges: ['Data: B', 'Data: C', 'Key: key', 'Visited: False', 'Discovery: False', 'Weight: 14']\n",
      "\n",
      "\n"
     ]
    }
   ],
   "source": [
    "mstKruskals = g.mstKruskal()\n",
    "print(mstKruskals)"
   ]
  },
  {
   "cell_type": "markdown",
   "metadata": {},
   "source": [
    "### Let's create a minimum spanning tree using Prim's algorithm"
   ]
  },
  {
   "cell_type": "code",
   "execution_count": 20,
   "metadata": {},
   "outputs": [
    {
     "name": "stdout",
     "output_type": "stream",
     "text": [
      "Data: H\n",
      "Edges: ['Data: D', 'Data: H', 'Key: key', 'Visited: False', 'Discovery: False', 'Weight: 10']\n",
      "\n",
      "Data: D\n",
      "Edges: ['Data: A', 'Data: D', 'Key: key', 'Visited: False', 'Discovery: False', 'Weight: 3'], ['Data: F', 'Data: D', 'Key: key', 'Visited: False', 'Discovery: False', 'Weight: 3'], ['Data: D', 'Data: H', 'Key: key', 'Visited: False', 'Discovery: False', 'Weight: 10']\n",
      "\n",
      "Data: F\n",
      "Edges: ['Data: C', 'Data: F', 'Key: key', 'Visited: False', 'Discovery: False', 'Weight: 1'], ['Data: F', 'Data: D', 'Key: key', 'Visited: False', 'Discovery: False', 'Weight: 3']\n",
      "\n",
      "Data: C\n",
      "Edges: ['Data: B', 'Data: C', 'Key: key', 'Visited: False', 'Discovery: False', 'Weight: 14'], ['Data: E', 'Data: C', 'Key: key', 'Visited: False', 'Discovery: False', 'Weight: 9'], ['Data: C', 'Data: F', 'Key: key', 'Visited: False', 'Discovery: False', 'Weight: 1']\n",
      "\n",
      "Data: A\n",
      "Edges: ['Data: A', 'Data: D', 'Key: key', 'Visited: False', 'Discovery: False', 'Weight: 3']\n",
      "\n",
      "Data: E\n",
      "Edges: ['Data: G', 'Data: E', 'Key: key', 'Visited: False', 'Discovery: False', 'Weight: 11'], ['Data: E', 'Data: C', 'Key: key', 'Visited: False', 'Discovery: False', 'Weight: 9']\n",
      "\n",
      "Data: G\n",
      "Edges: ['Data: G', 'Data: E', 'Key: key', 'Visited: False', 'Discovery: False', 'Weight: 11']\n",
      "\n",
      "Data: B\n",
      "Edges: ['Data: B', 'Data: C', 'Key: key', 'Visited: False', 'Discovery: False', 'Weight: 14']\n",
      "\n",
      "\n"
     ]
    }
   ],
   "source": [
    "mstPrims = g.mstPrim(keys[0])\n",
    "print(mstPrims)"
   ]
  },
  {
   "cell_type": "markdown",
   "metadata": {},
   "source": [
    "### Let's check whether the sum of the edge weights in both minimum spanning trees is the same"
   ]
  },
  {
   "cell_type": "code",
   "execution_count": 21,
   "metadata": {},
   "outputs": [
    {
     "data": {
      "text/plain": [
       "True"
      ]
     },
     "execution_count": 21,
     "metadata": {},
     "output_type": "execute_result"
    }
   ],
   "source": [
    "mstKruskals.sumWeights() == mstPrims.sumWeights()"
   ]
  },
  {
   "cell_type": "markdown",
   "metadata": {},
   "source": [
    "### Let's find the shortest path to every fix from the starting point A using Dijkstra's algorithm"
   ]
  },
  {
   "cell_type": "code",
   "execution_count": 23,
   "metadata": {},
   "outputs": [
    {
     "name": "stdout",
     "output_type": "stream",
     "text": [
      "Data: H\n",
      "Edges: ['Data: H', 'Data: G', 'Key: key', 'Visited: False', 'Discovery: False', 'Weight: 12'], ['Data: H', 'Data: D', 'Key: key', 'Visited: False', 'Discovery: False', 'Weight: 10']\n",
      "\n",
      "Data: D\n",
      "Edges: ['Data: D', 'Data: F', 'Key: key', 'Visited: False', 'Discovery: False', 'Weight: 3'], ['Data: D', 'Data: A', 'Key: key', 'Visited: False', 'Discovery: False', 'Weight: 3'], ['Data: H', 'Data: D', 'Key: key', 'Visited: False', 'Discovery: False', 'Weight: 10']\n",
      "\n",
      "Data: G\n",
      "Edges: ['Data: G', 'Data: E', 'Key: key', 'Visited: False', 'Discovery: False', 'Weight: 11'], ['Data: H', 'Data: G', 'Key: key', 'Visited: False', 'Discovery: False', 'Weight: 12']\n",
      "\n",
      "Data: A\n",
      "Edges: ['Data: D', 'Data: A', 'Key: key', 'Visited: False', 'Discovery: False', 'Weight: 3']\n",
      "\n",
      "Data: F\n",
      "Edges: ['Data: F', 'Data: C', 'Key: key', 'Visited: False', 'Discovery: False', 'Weight: 1'], ['Data: D', 'Data: F', 'Key: key', 'Visited: False', 'Discovery: False', 'Weight: 3']\n",
      "\n",
      "Data: C\n",
      "Edges: ['Data: C', 'Data: B', 'Key: key', 'Visited: False', 'Discovery: False', 'Weight: 14'], ['Data: F', 'Data: C', 'Key: key', 'Visited: False', 'Discovery: False', 'Weight: 1']\n",
      "\n",
      "Data: E\n",
      "Edges: ['Data: G', 'Data: E', 'Key: key', 'Visited: False', 'Discovery: False', 'Weight: 11']\n",
      "\n",
      "Data: B\n",
      "Edges: ['Data: C', 'Data: B', 'Key: key', 'Visited: False', 'Discovery: False', 'Weight: 14']\n",
      "\n",
      "\n"
     ]
    }
   ],
   "source": [
    "dijkstras = g.dijkstra(keys[0])\n",
    "print(dijkstras)"
   ]
  },
  {
   "cell_type": "code",
   "execution_count": 4,
   "metadata": {},
   "outputs": [
    {
     "name": "stdout",
     "output_type": "stream",
     "text": [
      "Help on module graph:\n",
      "\n",
      "NAME\n",
      "    graph\n",
      "\n",
      "CLASSES\n",
      "    builtins.object\n",
      "        Graph\n",
      "    \n",
      "    class Graph(builtins.object)\n",
      "     |  Methods defined here:\n",
      "     |  \n",
      "     |  __init__(self)\n",
      "     |      Our graph will keep track of a set of vertices and a linked list of edges as\n",
      "     |      mentioned in the description of an adjacency list.\n",
      "     |      \n",
      "     |      Runtime\n",
      "     |      Implementation 1: O(n)\n",
      "     |      Implementation 2: O(n ^ 2)\n",
      "     |      Implementation 3: O(n)\n",
      "     |  \n",
      "     |  __str__(self)\n",
      "     |      String representation of our Graph\n",
      "     |  \n",
      "     |  adjacentVertices(self, v)\n",
      "     |      This function will return all of the adjacent vertices around a given vertex\n",
      "     |      v. This function will be helpful when we are doing BFS and DFS traversals \n",
      "     |      of the graph.\n",
      "     |      INPUT:\n",
      "     |          v: Vertex query\n",
      "     |      OUTPUT:\n",
      "     |          List of adjacent vertices\n",
      "     |  \n",
      "     |  areAdjacent(self, origin, destination)\n",
      "     |      This function checks if two vertices, origin and destination, are adjacent.\n",
      "     |      We do so by finding the degree of the smaller vertex, and then traversing\n",
      "     |      through the linked list of edge pointers stored in the key. We check the edge\n",
      "     |      that the edge is pointing to and check whether the pointers stored inside the \n",
      "     |      actual edge object point to origin and destination. If so we return true.\n",
      "     |      INPUT:\n",
      "     |          origin: First vertex\n",
      "     |          destination: Second vertex\n",
      "     |      OUTPUT:\n",
      "     |          Returns data if adjacent; None otherwise\n",
      "     |      Runtime\n",
      "     |      Implementation 1: O(m)\n",
      "     |      Implementation 2: O(1)\n",
      "     |      Implementation 3: O(1) + O(min(deg(origin), deg(destination)))\n",
      "     |  \n",
      "     |  bfs(self)\n",
      "     |      A breadth first search works very similarly to a BFS in a \n",
      "     |      binary tree. First we visit all of the children of a node before\n",
      "     |      visiting any of the grandchildren. In order to properly do the traversal,\n",
      "     |      we must first set all of the vertices as not visited and label all of\n",
      "     |      the edges as not visited as well. Once we do that we simply do a BFS on every single\n",
      "     |      node in our vertex list given that we have not yet visited the vertex.\n",
      "     |  \n",
      "     |  cyclesExist(self)\n",
      "     |      This function is checking whether we have cycles in our graph. A cycle just means\n",
      "     |      that we have the same starting and ending point in a given path that we take \n",
      "     |      in a graph. We keep track of this when we run the traversals. Make sure to run\n",
      "     |      the traversals before calling this function because otherwise you wil not \n",
      "     |      get the result you want.\n",
      "     |  \n",
      "     |  degree(self, key)\n",
      "     |      This function returns the length of the set of incident edges to a given\n",
      "     |      vertex.\n",
      "     |  \n",
      "     |  dfs(self)\n",
      "     |      A depth first search works very similarly to a DFS in a \n",
      "     |      binary tree. We want to visit as deep into the graph as possible. In order \n",
      "     |      to properly do the traversal, we must first set all of the vertices as not visited \n",
      "     |      and label all of the edges as not visited as well. Once we do that \n",
      "     |      we simply do a DFS on every single node in our vertex list given that we have \n",
      "     |      not yet visited the vertex.\n",
      "     |  \n",
      "     |  dijkstra(self, start)\n",
      "     |      Dijkstra's algorithm builds off of Prim's algorithm. The objective of Dijkstra's algorithm is\n",
      "     |      to find the shortest path between a starting node and a destination node. However, at\n",
      "     |      the end of running Dijkstra's algorithm, we find that we have the shortest path to \n",
      "     |      every other single vertex in our graph. When I am throwing around the word shortest path, I am\n",
      "     |      referencing the smallest total edge weight path. Dijkstra's algorithm only changes one thing\n",
      "     |      from Prim's algorithm: instead of updating the weight to be edge weight, we total up \n",
      "     |      the total distance or edge weight we have seen so far and add it to the vertex's weight. \n",
      "     |      Dijkstra's algorithm is very useful because it handles both directed and undirected graphs. In\n",
      "     |      addition, Dijkstra's algorithm accounts will make the correct call when deciding between\n",
      "     |      many small weighted edges and one large weighted edge. One downside of Dijkstra's algorithm\n",
      "     |      is that it cannot handle neight weight cycles. Finally, if we are trying to find the path\n",
      "     |      from start to finish, we start with the destination node and work backwards using each \n",
      "     |      node's predecessor.\n",
      "     |      \n",
      "     |      INPUT:\n",
      "     |          start: Starting node we are finding\n",
      "     |      OUTPUT:\n",
      "     |          Shortest path to every single vertex in our graph from the starting point\n",
      "     |      \n",
      "     |      Runtime - O(n + mlg(n)) - We know that 'initializing' each of the vertices takes O(n) time.\n",
      "     |      Next, building a minHeap takes O(n) time. Once we enter the for loop and traverse all of the \n",
      "     |      vertices, we have an outer runtime of O(n). On the inside of the for loop, we remove from\n",
      "     |      the minheap which takes O(lg(n)) time since we might have to heapify down.\n",
      "     |      So that small portion gives us a runtime of nlg(n). The other portion inside\n",
      "     |      of the for loop runs in time proportional to mlg(n) since we visit m edges, and \n",
      "     |      building the heap again takes lg(n) time. Once we add these up, we get a total\n",
      "     |      runtime of O(mlg(n) + nlg(n)). Other implementations will get you better runtimes depending on\n",
      "     |      what you want from the graph and the type of graph you are expecting. Using a adjacency list and\n",
      "     |      minheap, we get this runtime. Using a adjacency matrix and a heap we also get the same runtime.\n",
      "     |      However, if we swapped the heap for an unsorted array, we get a runtime of O(n^2) for both\n",
      "     |      implementations of a graph. The best way to truely improve the runtime is to use a fibonacci heap,\n",
      "     |      this would reduce total runtime to O(nlg(n) + m).\n",
      "     |  \n",
      "     |  floydWarshall(self)\n",
      "     |      Since Dijkstra's algorithm cannot account for negative edge weights, we need\n",
      "     |      an alternative algorithm that will run properly if we do need negative edge weights.\n",
      "     |      This algorithm is known as the Floyd Warshall Algorithm. The premise behind it is\n",
      "     |      to assign each of the edges between each vertice +inf to start off. Once we find \n",
      "     |      a path that is shorter, we change the edge weight to the correct weight.\n",
      "     |      Since this algorithm does require a adjacency matrix implementation if we want to use\n",
      "     |      dynamic programming, we cannot implment it here. However, I will give a run through\n",
      "     |      of the algorithm that we would use. This algorithm will give us the shortest path\n",
      "     |      between any two vertices. Unlike Dijkstra's, we will have every single shortest path.\n",
      "     |      Floyd Warshall's algo checks whether the inclusion of certain eedges is better than the existing\n",
      "     |      path. It ignores adding an edge that already exists in our edge inputs. This helps us avoid \n",
      "     |      cycles and self loops. After the first w for loop, we know that all paths are optimal with\n",
      "     |      the addition of k. Floyd Warshall's algorithm is a dynamic programming algo.\n",
      "     |      \n",
      "     |      Runtime - O(n ^ 3) - Since we do have to visit every single vertex, our runtime is O(n * n * n).\n",
      "     |      At first glance this runtime might seem bad since we have not focused on any algorithm whose\n",
      "     |      runtime is worse than ~ O(n ^2), the beauty of Floyd Warshall is the fact that it will\n",
      "     |      give us the shortest path between all vertices.\n",
      "     |  \n",
      "     |  inicidentEdges(self, v)\n",
      "     |      This function will return all of the edges touching a inputed \n",
      "     |      vertex.\n",
      "     |      INPUT:\n",
      "     |          v: Vertex we are finding all of the inicident edge for\n",
      "     |      OUTPUT:\n",
      "     |          List of incident edges to a given vertex\n",
      "     |      \n",
      "     |      Runtime\n",
      "     |      Implementation 1: O(1) + O(m)\n",
      "     |      Implementation 2: O(n)\n",
      "     |      Implementation 3: O(1) + O(deg(v))\n",
      "     |  \n",
      "     |  initialize(self)\n",
      "     |      This function will initialize our vertices\n",
      "     |      and edges so that we can properly traverse the entire graph\n",
      "     |  \n",
      "     |  insertEdge(self, origin, destination, key, weight=0)\n",
      "     |      The idea here is to create a new edge and append an empty node\n",
      "     |      to the linked list stored in the key of the vertices. Once you add\n",
      "     |      a new node, you make the edge point back to the exact location of each of\n",
      "     |      the vertices; likewise, we make the data within the node stored in the \n",
      "     |      linked list of inicident edges point directly to the edge as stored\n",
      "     |      in the linked list of edges.\n",
      "     |      INPUT:\n",
      "     |          origin: Vertex 1 that will have a new edge\n",
      "     |          destination: Vertex 2 that will have a new edge\n",
      "     |          key: Key that will be stored in the edge\n",
      "     |      OUTPUT:\n",
      "     |          New edge\n",
      "     |      \n",
      "     |      Runtime\n",
      "     |      Implementation 1: O(1)\n",
      "     |      Implementation 2: O(1)\n",
      "     |      Implementation 3: O(1)\n",
      "     |  \n",
      "     |  insertVertex(self, key)\n",
      "     |      Here all we do is create a new vertex object with the key parameter and insert it\n",
      "     |      into our set of vertices. The reason we use a set is because it is implemented\n",
      "     |      using a hashtable and allows us to have constant lookups.\n",
      "     |      INPUT:\n",
      "     |          key: Key or data we want to insert\n",
      "     |      OUTPUT:\n",
      "     |          Inserted vertex into our graph\n",
      "     |      \n",
      "     |      Runtime\n",
      "     |      Implementation 1: O(1)\n",
      "     |      Implementation 2: O(1) + O(n) amortized\n",
      "     |      Implementation 3: O(1) ?\n",
      "     |  \n",
      "     |  mstKruskal(self)\n",
      "     |      Before we talk about the algorithm, lets touch base on what a MST exactly is once again. A\n",
      "     |      minimum spanning tree (MST) is a graph that is minimally connected. This means that we \n",
      "     |      have created a path between any two nodes in our graph, have no cycles, and have a minimum\n",
      "     |      total weight. In order to build a MST using Kruskal's algorithm, we first put each vertex in \n",
      "     |      a seperate set in a disjoint set. The purpose we do this is to check whether two vertices have\n",
      "     |      the same representative element. If they do, that means they are part of some minimum spanning \n",
      "     |      tree for that labeled set. Next, we place all of the edges in a heap and build a minheap based\n",
      "     |      on the edge weights. This will allow for us to properly remove each edge and to have the\n",
      "     |      edges in correct order in linear time (build heap runs in O(n) time). Finally, we create a new\n",
      "     |      graph which will be the minimum spanning tree.\n",
      "     |      Once we do all of this we follow this algorithm:\n",
      "     |      # while edges < n - 1:\n",
      "     |          # for each edge:\n",
      "     |              # if vertices in edge are in seperate sets, union and make the edge a discovery edge\n",
      "     |              # else make the edge not discovery but visited\n",
      "     |      \n",
      "     |      Runtime - O(n + mlg(n)) - Since it takes O(n) time to build the disjoint set, O(m) time to \n",
      "     |      build a minheap(partially sorted), O(m) time to loop through the while loop since we might have\n",
      "     |      to visit every edge, and finally O(lg(m)) = o(lg(n)) time to remove from a heap, we get a total runtime\n",
      "     |      of O(n + mlg(n)). The runtime of implementing this algorithm using a sorted array is the same runtime.\n",
      "     |      However, a minheap allows you to update edge weights with less of a cost and works better with a dense \n",
      "     |      graph.\n",
      "     |  \n",
      "     |  mstPrim(self, v)\n",
      "     |      Before we talk about the algorithm, lets touch base on what a MST exactly is once again. A\n",
      "     |      minimum spanning tree (MST) is a graph that is minimally connected. This means that we \n",
      "     |      have created a path between any two nodes in our graph, have no cycles, and have a minimum\n",
      "     |      total weight. In order to build a MST using Prim's algorithm, we first give each vertex a weight\n",
      "     |      and a predecessor. Once we do this, we set the predecessor and weight in each vertex to be\n",
      "     |      none and +inf respectively. In Prim's algorithm, we need to have a starting vertex. We set the\n",
      "     |      weight of the starting vertex to 0. We then build a minheap to hold all of our vertices. We\n",
      "     |      also create a new graph object that will end up being our MST. Finally, here we start our \n",
      "     |      algorithm. \n",
      "     |      for each vertex in vertices:\n",
      "     |          min = queue.remove()\n",
      "     |          if predecessor:\n",
      "     |              Mst.addedge(vertex,predecessor)\n",
      "     |          for neighbor of vertex not in new graph:\n",
      "     |              if current_weight > weight_of_edge_connecting_vertex_neighbor:\n",
      "     |                  neighbor.weight = weight_of_edge_connecting_vertex_neighbor\n",
      "     |                  neighbor.predecessor = vertex\n",
      "     |      \n",
      "     |      Runtime - O(n + mlg(n)) - We know that 'initializing' each of the vertices takes O(n) time.\n",
      "     |      Next, building a minHeap takes O(n) time. Once we enter the for loop and traverse all of the \n",
      "     |      vertices, we have an outer runtime of O(n). On the inside of the for loop, we remove from\n",
      "     |      the minheap which takes O(lg(n)) time since we might have to heapify down.\n",
      "     |      So that small portion gives us a runtime of nlg(n). The other portion inside\n",
      "     |      of the for loop runs in time proportional to mlg(n) since we visit m edges, and \n",
      "     |      building the heap again takes lg(n) time. Once we add these up, we get a total\n",
      "     |      runtime of O(mlg(n) + nlg(n)). Other implementations will get you better runtimes depending on\n",
      "     |      what you want from the graph and the type of graph you are expecting. Using a adjacency list and\n",
      "     |      minheap, we get this runtime. Using a adjacency matrix and a heap we also get the same runtime.\n",
      "     |      However, if we swapped the heap for an unsorted array, we get a runtime of O(n^2) for both\n",
      "     |      implementations of a graph. The best way to truely improve the runtime is to use a fibonacci heap,\n",
      "     |      this would reduce total runtime to O(nlg(n) + m).\n",
      "     |  \n",
      "     |  numConnectedComponents(self)\n",
      "     |      This is returning the number of connected components in our graph.\n",
      "     |      All this means is that we might have a disjoint graph where some nodes\n",
      "     |      do not have a path between them. We keep track of this when we call traversals\n",
      "     |      DFS or BFS. Make sure to call the traversal before calling this function.\n",
      "     |  \n",
      "     |  removeEdge(self, origin, destination)\n",
      "     |      This function will remove an edge that has two associated\n",
      "     |      vertices, origin and destination. We first find the vertex with the smaller degree,\n",
      "     |      next we traverse through the linked list of edge pointers stored in the\n",
      "     |      key. Once we do that we check whether the actual edge object has pointers\n",
      "     |      pointing to origin and destination. If so we simply remove, if not, we do nothing and \n",
      "     |      keep traversing the linked list.\n",
      "     |      INPUT:\n",
      "     |          origin: First vertex\n",
      "     |          destination: Second vertex\n",
      "     |      OUTPUT:\n",
      "     |          Removed edge associated with origin and destination\n",
      "     |      Runtime\n",
      "     |      Implementation 1: O(1)\n",
      "     |      Implementation 2: O(1)\n",
      "     |      Implementation 3: O(1) + O(min(deg(origin),deg(destination)))\n",
      "     |  \n",
      "     |  removeVertex(self, v)\n",
      "     |      When we are removing a vertex, we have to ensure that we are also\n",
      "     |      removing all of the edges that belong to the vertex. We do so \n",
      "     |      by finding the edge object in the linked list of edges, and\n",
      "     |      removing both of the pointers in the edge object (corresponding to\n",
      "     |      the two vertices belonging to the edge).\n",
      "     |      INPUT:\n",
      "     |          v: Vertex that we will remove\n",
      "     |      OUTPUT:\n",
      "     |          Removed vertex from graph\n",
      "     |      \n",
      "     |      Runtime\n",
      "     |      Implementation 1: O(1) + O(m)\n",
      "     |      Implementation 2: O(1) + (n)\n",
      "     |      Implementation 3: O(1) + O(deg(v))\n",
      "     |  \n",
      "     |  sumWeights(self)\n",
      "     |      This is a helper function that sums the weights of all the edges in our \n",
      "     |      graph.\n",
      "     |      INPUT:\n",
      "     |          none\n",
      "     |      OUTPUT:\n",
      "     |          Sum of all the weights of all the edges\n",
      "     |      Runtime - O(m) - Since we have to sum up all of the edges, our algorithm runs \n",
      "     |      in time proportional to O(m).\n",
      "     |  \n",
      "     |  ----------------------------------------------------------------------\n",
      "     |  Data descriptors defined here:\n",
      "     |  \n",
      "     |  __dict__\n",
      "     |      dictionary for instance variables (if defined)\n",
      "     |  \n",
      "     |  __weakref__\n",
      "     |      list of weak references to the object (if defined)\n",
      "\n",
      "FILE\n",
      "    /Users/davidterpay/Desktop/Python-Data-Structures/Graphs/graph.py\n",
      "\n",
      "\n"
     ]
    },
    {
     "data": {
      "text/plain": [
       "['__bool__',\n",
       " '__class__',\n",
       " '__delattr__',\n",
       " '__dir__',\n",
       " '__doc__',\n",
       " '__eq__',\n",
       " '__format__',\n",
       " '__ge__',\n",
       " '__getattribute__',\n",
       " '__gt__',\n",
       " '__hash__',\n",
       " '__init__',\n",
       " '__init_subclass__',\n",
       " '__le__',\n",
       " '__lt__',\n",
       " '__ne__',\n",
       " '__new__',\n",
       " '__reduce__',\n",
       " '__reduce_ex__',\n",
       " '__repr__',\n",
       " '__setattr__',\n",
       " '__sizeof__',\n",
       " '__str__',\n",
       " '__subclasshook__']"
      ]
     },
     "execution_count": 4,
     "metadata": {},
     "output_type": "execute_result"
    }
   ],
   "source": [
    "import graph\n",
    "dir(help(graph))"
   ]
  },
  {
   "cell_type": "code",
   "execution_count": 5,
   "metadata": {},
   "outputs": [
    {
     "name": "stdout",
     "output_type": "stream",
     "text": [
      "Help on module vertex:\n",
      "\n",
      "NAME\n",
      "    vertex\n",
      "\n",
      "CLASSES\n",
      "    builtins.object\n",
      "        Vertex\n",
      "    \n",
      "    class Vertex(builtins.object)\n",
      "     |  Methods defined here:\n",
      "     |  \n",
      "     |  __gt__(self, other)\n",
      "     |      Return self>value.\n",
      "     |  \n",
      "     |  __init__(self, data, listEdge=None)\n",
      "     |      Our vertex stores the data and a linked list of edges\n",
      "     |  \n",
      "     |  __lt__(self, other)\n",
      "     |      Return self<value.\n",
      "     |  \n",
      "     |  __str__(self)\n",
      "     |      Return str(self).\n",
      "     |  \n",
      "     |  getData(self)\n",
      "     |      Getter for encapsulated data\n",
      "     |  \n",
      "     |  getVisited(self)\n",
      "     |      Getter for encapsulated data\n",
      "     |  \n",
      "     |  setData(self, data)\n",
      "     |      Setter for encapsulated data\n",
      "     |  \n",
      "     |  setVisited(self, var)\n",
      "     |      Setter for encapsulated data\n",
      "     |  \n",
      "     |  ----------------------------------------------------------------------\n",
      "     |  Data descriptors defined here:\n",
      "     |  \n",
      "     |  __dict__\n",
      "     |      dictionary for instance variables (if defined)\n",
      "     |  \n",
      "     |  __weakref__\n",
      "     |      list of weak references to the object (if defined)\n",
      "\n",
      "FILE\n",
      "    /Users/davidterpay/Desktop/Python-Data-Structures/Graphs/vertex.py\n",
      "\n",
      "\n"
     ]
    },
    {
     "data": {
      "text/plain": [
       "['__bool__',\n",
       " '__class__',\n",
       " '__delattr__',\n",
       " '__dir__',\n",
       " '__doc__',\n",
       " '__eq__',\n",
       " '__format__',\n",
       " '__ge__',\n",
       " '__getattribute__',\n",
       " '__gt__',\n",
       " '__hash__',\n",
       " '__init__',\n",
       " '__init_subclass__',\n",
       " '__le__',\n",
       " '__lt__',\n",
       " '__ne__',\n",
       " '__new__',\n",
       " '__reduce__',\n",
       " '__reduce_ex__',\n",
       " '__repr__',\n",
       " '__setattr__',\n",
       " '__sizeof__',\n",
       " '__str__',\n",
       " '__subclasshook__']"
      ]
     },
     "execution_count": 5,
     "metadata": {},
     "output_type": "execute_result"
    }
   ],
   "source": [
    "import vertex\n",
    "dir(help(vertex))"
   ]
  },
  {
   "cell_type": "code",
   "execution_count": 6,
   "metadata": {},
   "outputs": [
    {
     "name": "stdout",
     "output_type": "stream",
     "text": [
      "Help on module edge:\n",
      "\n",
      "NAME\n",
      "    edge\n",
      "\n",
      "DESCRIPTION\n",
      "    Written by David Terpay\n",
      "    This is a class that will help structure our edges. Edges\n",
      "    contain a few data items\n",
      "    1. Two vertices\n",
      "    2. Key\n",
      "    3. Pointers to the position of the item in the linked list of \n",
      "        edges stored in the vertex edge list.\n",
      "    4. Visited which will allow us to keep track of the edges we visited\n",
      "        when we are doing traversals\n",
      "    5. Discovery will allow us to label the edges as we are traversing the \n",
      "        graph.\n",
      "\n",
      "CLASSES\n",
      "    builtins.object\n",
      "        Edge\n",
      "    \n",
      "    class Edge(builtins.object)\n",
      "     |  Methods defined here:\n",
      "     |  \n",
      "     |  __gt__(self, other)\n",
      "     |      Return self>value.\n",
      "     |  \n",
      "     |  __init__(self, vertex1, vertex2, vertex1Pointer, vertex2Pointer, key)\n",
      "     |      Initialize self.  See help(type(self)) for accurate signature.\n",
      "     |  \n",
      "     |  __lt__(self, other)\n",
      "     |      Return self<value.\n",
      "     |  \n",
      "     |  __str__(self)\n",
      "     |      Return str(self).\n",
      "     |  \n",
      "     |  ----------------------------------------------------------------------\n",
      "     |  Data descriptors defined here:\n",
      "     |  \n",
      "     |  __dict__\n",
      "     |      dictionary for instance variables (if defined)\n",
      "     |  \n",
      "     |  __weakref__\n",
      "     |      list of weak references to the object (if defined)\n",
      "\n",
      "FILE\n",
      "    /Users/davidterpay/Desktop/Python-Data-Structures/Graphs/edge.py\n",
      "\n",
      "\n"
     ]
    },
    {
     "data": {
      "text/plain": [
       "['__bool__',\n",
       " '__class__',\n",
       " '__delattr__',\n",
       " '__dir__',\n",
       " '__doc__',\n",
       " '__eq__',\n",
       " '__format__',\n",
       " '__ge__',\n",
       " '__getattribute__',\n",
       " '__gt__',\n",
       " '__hash__',\n",
       " '__init__',\n",
       " '__init_subclass__',\n",
       " '__le__',\n",
       " '__lt__',\n",
       " '__ne__',\n",
       " '__new__',\n",
       " '__reduce__',\n",
       " '__reduce_ex__',\n",
       " '__repr__',\n",
       " '__setattr__',\n",
       " '__sizeof__',\n",
       " '__str__',\n",
       " '__subclasshook__']"
      ]
     },
     "execution_count": 6,
     "metadata": {},
     "output_type": "execute_result"
    }
   ],
   "source": [
    "import edge\n",
    "dir(help(edge))"
   ]
  },
  {
   "cell_type": "code",
   "execution_count": null,
   "metadata": {
    "collapsed": true
   },
   "outputs": [],
   "source": []
  }
 ],
 "metadata": {
  "kernelspec": {
   "display_name": "Python 3",
   "language": "python",
   "name": "python3"
  },
  "language_info": {
   "codemirror_mode": {
    "name": "ipython",
    "version": 3
   },
   "file_extension": ".py",
   "mimetype": "text/x-python",
   "name": "python",
   "nbconvert_exporter": "python",
   "pygments_lexer": "ipython3",
   "version": "3.6.1"
  }
 },
 "nbformat": 4,
 "nbformat_minor": 2
}
