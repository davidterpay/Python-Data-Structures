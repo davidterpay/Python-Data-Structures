{
 "cells": [
  {
   "cell_type": "markdown",
   "metadata": {},
   "source": [
    "## Heaps\n",
    "#### Written by David Terpay\n",
    "This notebook will demonstrate some of the functionality of the Heap class I built. You can check it out in the heap.py file as well as the attached classes found in the Binary_Tree folder (I used this as my backend implementation).\n",
    "The documentation and all of the functionality as well as decriptions can be found at the bottom of this notebook."
   ]
  },
  {
   "cell_type": "markdown",
   "metadata": {},
   "source": [
    "### Time to mess around!\n",
    "First let's create a heap with some data!"
   ]
  },
  {
   "cell_type": "code",
   "execution_count": 1,
   "metadata": {},
   "outputs": [],
   "source": [
    "import sys\n",
    "sys.path.append('../')\n",
    "from Heaps import heap\n",
    "import random\n",
    "heap = heap.Heap()\n",
    "lst = [random.randint(-100,100) for __ in range(10)]\n",
    "heap.buildHeap(lst)"
   ]
  },
  {
   "cell_type": "markdown",
   "metadata": {},
   "source": [
    "### Let's take a look at what our Heap looks like.\n",
    "Note: this will be view horizontally not vertically. I have not implemented a printpretty function yet."
   ]
  },
  {
   "cell_type": "code",
   "execution_count": 2,
   "metadata": {},
   "outputs": [
    {
     "name": "stdout",
     "output_type": "stream",
     "text": [
      "Size is : 10\n",
      "Capacity is : 15\n",
      "Array : [None, -96, -88, -73, -82, -10, -34, 49, -20, 98, 70, None, None, None, None, None]\n",
      "\n",
      "\n",
      "\n",
      "          49\n",
      "\n",
      "     -73\n",
      "\n",
      "          -34\n",
      "\n",
      "-96\n",
      "\n",
      "          -10\n",
      "\n",
      "               70\n",
      "\n",
      "     -88\n",
      "\n",
      "               98\n",
      "\n",
      "          -82\n",
      "\n",
      "               -20\n"
     ]
    }
   ],
   "source": [
    "print(heap)"
   ]
  },
  {
   "cell_type": "markdown",
   "metadata": {},
   "source": [
    "### Let's removeMin() from our heap."
   ]
  },
  {
   "cell_type": "code",
   "execution_count": 3,
   "metadata": {},
   "outputs": [
    {
     "name": "stdout",
     "output_type": "stream",
     "text": [
      "Size is : 9\n",
      "Capacity is : 15\n",
      "Array : [None, -88, -82, -73, -20, -10, -34, 49, 70, 98, None, None, None, None, None, None]\n",
      "\n",
      "\n",
      "\n",
      "          49\n",
      "\n",
      "     -73\n",
      "\n",
      "          -34\n",
      "\n",
      "-88\n",
      "\n",
      "          -10\n",
      "\n",
      "     -82\n",
      "\n",
      "               98\n",
      "\n",
      "          -20\n",
      "\n",
      "               70\n"
     ]
    }
   ],
   "source": [
    "heap.remove()\n",
    "print(heap)"
   ]
  },
  {
   "cell_type": "markdown",
   "metadata": {},
   "source": [
    "### Let's heapsort our heap and check the results"
   ]
  },
  {
   "cell_type": "code",
   "execution_count": 4,
   "metadata": {},
   "outputs": [
    {
     "data": {
      "text/plain": [
       "[-88, -82, -73, -34, -20, -10, 49, 70, 98]"
      ]
     },
     "execution_count": 4,
     "metadata": {},
     "output_type": "execute_result"
    }
   ],
   "source": [
    "heap.heapSort()"
   ]
  },
  {
   "cell_type": "code",
   "execution_count": 5,
   "metadata": {},
   "outputs": [
    {
     "name": "stdout",
     "output_type": "stream",
     "text": [
      "Size is : 9\n",
      "Capacity is : 15\n",
      "Array : [None, -88, -82, -73, -34, -20, -10, 49, 70, 98, None, None, None, None, None, None]\n",
      "\n",
      "\n",
      "\n",
      "          49\n",
      "\n",
      "     -73\n",
      "\n",
      "          -10\n",
      "\n",
      "-88\n",
      "\n",
      "          -20\n",
      "\n",
      "     -82\n",
      "\n",
      "               98\n",
      "\n",
      "          -34\n",
      "\n",
      "               70\n"
     ]
    }
   ],
   "source": [
    "print(heap)"
   ]
  },
  {
   "cell_type": "markdown",
   "metadata": {},
   "source": [
    "### Let's write a crazy test case to test whether our heap really works, and then let's sort it, and check the results with pythons sorted()."
   ]
  },
  {
   "cell_type": "code",
   "execution_count": 6,
   "metadata": {},
   "outputs": [
    {
     "data": {
      "text/plain": [
       "True"
      ]
     },
     "execution_count": 6,
     "metadata": {},
     "output_type": "execute_result"
    }
   ],
   "source": [
    "from Heaps.heap import Heap\n",
    "from random import randint\n",
    "newHeap = Heap()\n",
    "crazyLst = [randint(-999999,999999) for __ in range(99999)]\n",
    "newHeap.heapSort(crazyLst)\n",
    "sorted(crazyLst) == newHeap.array[1:newHeap.size + 1]"
   ]
  },
  {
   "cell_type": "markdown",
   "metadata": {},
   "source": [
    "### Functionality of the Heap class.\n",
    "Note the code for the functions will not be seen here. You will need to go to the .py files for that"
   ]
  },
  {
   "cell_type": "code",
   "execution_count": 7,
   "metadata": {},
   "outputs": [
    {
     "name": "stdout",
     "output_type": "stream",
     "text": [
      "Help on Heap in module Heaps.heap object:\n",
      "\n",
      "class Heap(builtins.object)\n",
      " |  Methods defined here:\n",
      " |  \n",
      " |  __init__(self)\n",
      " |      We will keep track of four variables. Root which is the root of our tree.\n",
      " |      Array which will hold our data maintained in the heap. Size which \n",
      " |      will keep track of many data points we have in our list. Capacity will\n",
      " |      tell us how many more nodes we can place in that level of our binary tree.\n",
      " |  \n",
      " |  __str__(self)\n",
      " |      This function helps us represent our heap in a string. It will show\n",
      " |      us the size, capacity, and the data in the array.\n",
      " |      INPUT: None\n",
      " |      OUTPUT:\n",
      " |          String representation of our (min)heap.\n",
      " |  \n",
      " |  buildHeap(self, lst)\n",
      " |      Builds a heap from an existing list of data.\n",
      " |      Option 1: sort the array --> O(nlg(n)) if using mergesort, etc.\n",
      " |      Option 2: Call heapify up after every insert into our new list.\n",
      " |          O(nlg(n)) runtime because we have to insert n elements and\n",
      " |          lg(n) time to insert into our list\n",
      " |      Option 3: Call heapifydown. assumes that right and left subtrees \n",
      " |          are heaps just might swap one element. The leaf nodes are already\n",
      " |          heaps so we have to simply call heapifydown on the parents of the\n",
      " |          leaf nodes and work our way up. Half of our array is already a heap.\n",
      " |          We have to heapifydown on half of our array.\n",
      " |      \n",
      " |      INPUT:\n",
      " |          lst: List of data\n",
      " |      OUTPUT:\n",
      " |          Heap\n",
      " |      \n",
      " |      Runtime -- O(n) -- Since we ignore the leaf nodes, half of our heap is partially sorted \n",
      " |      and is a heap. We only have to call heapifydown on the parents of the leaves and work up.\n",
      " |      There is a proof of induction of this that can be found online.\n",
      " |  \n",
      " |  buildTree(self)\n",
      " |      This function will help us build the binary tree attribute in this class.\n",
      " |      It will take the heap and map it onto a binary tree for an easy visualization of\n",
      " |      the heap. We use the __buildTree helper function here.\n",
      " |      INPUT: None\n",
      " |      OUTPUT:\n",
      " |          A binary tree visualization of a heap\n",
      " |      \n",
      " |      Runtime -- O(nlg(n)) -- Since there are n elements in our heap and inserting each\n",
      " |      element into the tree takes lg(n) time, our runtime is nlg(n).\n",
      " |  \n",
      " |  growArray(self)\n",
      " |      Adds another level of our model tree copys the data.\n",
      " |      This runs in O(1) amortized time since we are doubling the array\n",
      " |      everytime we need to.\n",
      " |      INPUT: None\n",
      " |      OUTPUT:\n",
      " |          New array that is double the previous size without empty locations\n",
      " |          containing None.\n",
      " |      \n",
      " |      Runtime -- O(1)* -- Since we are doubling the size of our array everytime\n",
      " |      we reach the capacity, we effectively allow the algorithm to run in O(1) \n",
      " |      amortized.\n",
      " |  \n",
      " |  heapSort(self, lst=None)\n",
      " |      In order to heap sort, first we build a heap using buildheap (this is\n",
      " |      if the list is new and inputed otherwise we keep the current list).\n",
      " |      Building the heap takes O(n) time. Second we remove min n times. Lastly,\n",
      " |      we reverse the array using index 0 as our start when we are returning \n",
      " |      (this is so we do not return None).\n",
      " |      INPUT:\n",
      " |          lst: List of data if we want to input new data\n",
      " |      OUTPUT:\n",
      " |          Sorted list of data that will be a member of the class.\n",
      " |      \n",
      " |      Runtime -- O(nlg(n)) -- This runs in time proptional to nlg(n) because\n",
      " |      we call removeMin n times and it takes a max of lg(n) time to run it.\n",
      " |      The functions used here and there running times are below.\n",
      " |      \n",
      " |      buildheap -- O(n)\n",
      " |      removeMin -- O(nlg(n))\n",
      " |      reverse -- O(n)\n",
      " |  \n",
      " |  heapifyDown(self, index=1)\n",
      " |      We start at the root and build downward.\n",
      " |      \n",
      " |      Runtime -- O(lg(n)) -- We might have to go down to the very bottom of\n",
      " |      our tree.\n",
      " |  \n",
      " |  heapifyUp(self, index)\n",
      " |      Heapify up rebalances or fixes the heap from the insertion \n",
      " |      point up to the root if necessary. It checks the parent and \n",
      " |      swaps if necessary.\n",
      " |      INPUT:\n",
      " |          index: Index that we are moving upwards with\n",
      " |      OUTPUT:\n",
      " |          Array that maintains the heap property\n",
      " |      \n",
      " |      Runtime -- O(lg(n)) -- Because we might have to go up to\n",
      " |      the entire height of the tree.\n",
      " |  \n",
      " |  insert(self, data)\n",
      " |      Insert will always insert at the very end of the heap in order to maintain\n",
      " |      a running time of O(1). Once we insert at the very end, we heapify up\n",
      " |      from the bottom. In addition, if the size is near the capacity, we\n",
      " |      grow the array (aka double it).\n",
      " |      INPUT:\n",
      " |          data: Data to be inserted\n",
      " |      OUTPUT:\n",
      " |          Heap with new data\n",
      " |      Runtime -- O(lg(n)) -- Since we are inserted at the very end, and since heapifyUp\n",
      " |      runs in time proptional to the height, we get a lg(n) running time.\n",
      " |  \n",
      " |  isEmpty(self)\n",
      " |      Checks if heap is empty\n",
      " |      INPUT: None\n",
      " |      OUTPUT:\n",
      " |          True if empty, false if not.\n",
      " |  \n",
      " |  leftChild(self, index)\n",
      " |      left child is 2 * index if rooted at 1 index.\n",
      " |      INPUT:\n",
      " |          index: Index our our data point in the array\n",
      " |      OUTPUT:\n",
      " |          The index of the leftChild.\n",
      " |  \n",
      " |  parent(self, index)\n",
      " |      parent is index // 2 if rooted at 1 index.\n",
      " |      INPUT:\n",
      " |          index: Index our our data point in the array\n",
      " |      OUTPUT:\n",
      " |          The index of the parent.\n",
      " |  \n",
      " |  remove(self)\n",
      " |      This automatically removes the min or max depending\n",
      " |      on whether it is a max or min prioirity heap. We have to\n",
      " |      insert at the beginning or end to have O(1) runtime. Insert\n",
      " |      into a heap, we insert at the end. We remove from the end\n",
      " |      by first removing the root, and then replacing the root with\n",
      " |      the last element in our array. Then we call heapify down.\n",
      " |      INPUT: None\n",
      " |      OUTPUT:\n",
      " |          Heap without min\n",
      " |      \n",
      " |      Runtime -- O(lg(n)) -- Since we might have to go through the entire tree, our runtime\n",
      " |      is proportional to the height which is lg(n).\n",
      " |  \n",
      " |  rightChild(self, index)\n",
      " |      right child is 2 index + 1 if rooted at 1 index.\n",
      " |      INPUT:\n",
      " |          index: Index our our data point in the array\n",
      " |      OUTPUT:\n",
      " |          The index of the rightChild.\n",
      " |  \n",
      " |  swap(self, low, upper)\n",
      " |      Swaps the data of the nodes in low and upper.\n",
      " |      INPUT:\n",
      " |          low: Lower index we want to swap.\n",
      " |          upper: Upper index we want to swap.\n",
      " |      OUTPUT:\n",
      " |          Array with data swapped\n",
      " |  \n",
      " |  ----------------------------------------------------------------------\n",
      " |  Data descriptors defined here:\n",
      " |  \n",
      " |  __dict__\n",
      " |      dictionary for instance variables (if defined)\n",
      " |  \n",
      " |  __weakref__\n",
      " |      list of weak references to the object (if defined)\n",
      "\n"
     ]
    },
    {
     "data": {
      "text/plain": [
       "['__bool__',\n",
       " '__class__',\n",
       " '__delattr__',\n",
       " '__dir__',\n",
       " '__doc__',\n",
       " '__eq__',\n",
       " '__format__',\n",
       " '__ge__',\n",
       " '__getattribute__',\n",
       " '__gt__',\n",
       " '__hash__',\n",
       " '__init__',\n",
       " '__init_subclass__',\n",
       " '__le__',\n",
       " '__lt__',\n",
       " '__ne__',\n",
       " '__new__',\n",
       " '__reduce__',\n",
       " '__reduce_ex__',\n",
       " '__repr__',\n",
       " '__setattr__',\n",
       " '__sizeof__',\n",
       " '__str__',\n",
       " '__subclasshook__']"
      ]
     },
     "execution_count": 7,
     "metadata": {},
     "output_type": "execute_result"
    }
   ],
   "source": [
    "dir(help(heap))"
   ]
  }
 ],
 "metadata": {
  "kernelspec": {
   "display_name": "Python 3",
   "language": "python",
   "name": "python3"
  },
  "language_info": {
   "codemirror_mode": {
    "name": "ipython",
    "version": 3
   },
   "file_extension": ".py",
   "mimetype": "text/x-python",
   "name": "python",
   "nbconvert_exporter": "python",
   "pygments_lexer": "ipython3",
   "version": "3.6.1"
  }
 },
 "nbformat": 4,
 "nbformat_minor": 2
}
