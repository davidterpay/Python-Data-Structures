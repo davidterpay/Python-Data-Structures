{
 "cells": [
  {
   "cell_type": "markdown",
   "metadata": {},
   "source": [
    "## Linked Lists\n",
    "#### David Terpay\n",
    " This notebook will demonstrate some of the functionality of the linked list class I built. You can check it out in the linked_list.py file as well as the attached node class found in node.py. All of the code was written by me but much of the inspiration I had came from the sources mentioned in the .py file.\n",
    "The documentation and all of the functionality as well as decriptions can be found at the bottom of this notebook"
   ]
  },
  {
   "cell_type": "markdown",
   "metadata": {},
   "source": [
    "### Time to mess around!\n",
    "First let's create a linked list with a random amount of nodes in a unsorted order with a lower and upper bound choosen by you!"
   ]
  },
  {
   "cell_type": "code",
   "execution_count": null,
   "metadata": {},
   "outputs": [],
   "source": [
    "import random\n",
    "from random import randint\n",
    "from LinkedList import LinkedList\n",
    "import Node\n",
    "linked = LinkedList() #creating a new linked list\n",
    "nums = int(input(\"Enter how many random numbers you would want in the list: \"))\n",
    "low = int(input(\"Enter the lower bound for the numbers: \"))\n",
    "high = int(input(\"Enter the upper bound for the numbers: \"))\n",
    "for num in range(nums):\n",
    "    linked.queue(random.randint(low,high))\n",
    "print(\"\\n\\nHere is the string representation of our linked list\")\n",
    "print(linked)"
   ]
  },
  {
   "cell_type": "markdown",
   "metadata": {},
   "source": [
    "### Let's sort the list using two different sorting algorithms and let us check if it sorts correctly!"
   ]
  },
  {
   "cell_type": "code",
   "execution_count": null,
   "metadata": {},
   "outputs": [],
   "source": [
    "bub = linked\n",
    "merg = linked\n",
    "bub.bubblesort() #using the bubble sort algorithm\n",
    "merg.mergesort(merg) #using the merge sort algorithm\n",
    "print(\"Using the bubble sort algorithm we get:\\n \",bub.toList())\n",
    "print(\"\\nUsing the merge sort algorithm we get:\\n \",bub.toList())\n",
    "print(f\"\\nLet us check if our sorting algorithms get the same result: {bub.toList() == bub.toList()}\")\n",
    "print(merg)\n",
    "del bub, merg, linked"
   ]
  },
  {
   "cell_type": "markdown",
   "metadata": {},
   "source": [
    "### Let's reverse a linked list!\n",
    "We will create a new linked list, sort it using mergesort, and then reverse it"
   ]
  },
  {
   "cell_type": "code",
   "execution_count": null,
   "metadata": {},
   "outputs": [],
   "source": [
    "rev = LinkedList()\n",
    "rev.stack(12,30,-12,32,0)\n",
    "rev.mergesort(rev)\n",
    "rev.reverseList()\n",
    "print(rev)\n",
    "del rev"
   ]
  },
  {
   "cell_type": "markdown",
   "metadata": {},
   "source": [
    "### Let's reverse blocks of nodes in a linked list!\n",
    "We will create a new linked list, sort it using mergesort, and then reverse it in blocks"
   ]
  },
  {
   "cell_type": "code",
   "execution_count": null,
   "metadata": {},
   "outputs": [],
   "source": [
    "blocks = LinkedList()\n",
    "blocks.queue(5,6,7,3,4,1,2,9,8)\n",
    "blocks.mergesort(blocks)\n",
    "blockSize = int(input(\"What block size do you want? \"))\n",
    "blocks.reverseNth(blockSize)\n",
    "print(blocks)"
   ]
  },
  {
   "cell_type": "markdown",
   "metadata": {},
   "source": [
    "### Let's reverse a section of our linked list!"
   ]
  },
  {
   "cell_type": "code",
   "execution_count": null,
   "metadata": {},
   "outputs": [],
   "source": [
    "section = LinkedList()\n",
    "section.queue(0,1,2,3,4,5)\n",
    "low = int(input(\"Enter what lower index you want to reverse: \"))\n",
    "high = int(input(\"Enter what upper index you want to reverse: \"))\n",
    "section.reverse(low,high)\n",
    "print(section)"
   ]
  },
  {
   "cell_type": "markdown",
   "metadata": {},
   "source": [
    "### Let's try using the waterfall function to apply the waterfall algorithm onto our linked list."
   ]
  },
  {
   "cell_type": "code",
   "execution_count": null,
   "metadata": {},
   "outputs": [],
   "source": [
    "waterfall = LinkedList()\n",
    "waterfall.queue(0,1,2,3,4,5,6,7,8)\n",
    "waterfall.waterfall() #waterfall the linked list\n",
    "print(waterfall)\n",
    "del waterfall"
   ]
  },
  {
   "cell_type": "markdown",
   "metadata": {},
   "source": [
    "### Let's try to use the count function."
   ]
  },
  {
   "cell_type": "code",
   "execution_count": null,
   "metadata": {},
   "outputs": [],
   "source": [
    "dups = LinkedList()\n",
    "dups.stack(0,10,23,4320,10,43,10,0,2,23)\n",
    "print(f\"There are {dups.count(10)} 10's in our linked list\")"
   ]
  },
  {
   "cell_type": "markdown",
   "metadata": {},
   "source": [
    "### Now let's try to remove all of the duplicates we have in our linked list."
   ]
  },
  {
   "cell_type": "code",
   "execution_count": null,
   "metadata": {},
   "outputs": [],
   "source": [
    "dups.deleteDups()\n",
    "print(dups)"
   ]
  },
  {
   "cell_type": "markdown",
   "metadata": {},
   "source": [
    "### Functionality of the LinkedList class.\n",
    "Note the code for the functions will not be seen here. You will need to go to the .py files for that"
   ]
  },
  {
   "cell_type": "code",
   "execution_count": null,
   "metadata": {},
   "outputs": [],
   "source": [
    "dir(help(LinkedList))"
   ]
  },
  {
   "cell_type": "markdown",
   "metadata": {},
   "source": [
    "### Functionality of the Node class.\n",
    "Note the code for the functions will not be seen here. You will need to go to the .py files for that"
   ]
  },
  {
   "cell_type": "code",
   "execution_count": null,
   "metadata": {},
   "outputs": [],
   "source": [
    "dir(help(Node))"
   ]
  }
 ],
 "metadata": {
  "kernelspec": {
   "display_name": "Python 3",
   "language": "python",
   "name": "python3"
  },
  "language_info": {
   "codemirror_mode": {
    "name": "ipython",
    "version": 3
   },
   "file_extension": ".py",
   "mimetype": "text/x-python",
   "name": "python",
   "nbconvert_exporter": "python",
   "pygments_lexer": "ipython3",
   "version": "3.6.1"
  }
 },
 "nbformat": 4,
 "nbformat_minor": 2
}
