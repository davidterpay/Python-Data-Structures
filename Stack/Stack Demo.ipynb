{
 "cells": [
  {
   "cell_type": "markdown",
   "metadata": {},
   "source": [
    "## Stack\n",
    "#### David Terpay\n",
    "This notebook will demonstrate some of the functionality of the stack class I built. You can check it out in the stack.py file as well as the attached classes found in the Linked_List folder (I used this as my backend implementation).\n",
    "The documentation and all of the functionality as well as decriptions can be found at the bottom of this notebook"
   ]
  },
  {
   "cell_type": "markdown",
   "metadata": {},
   "source": [
    "### Time to mess around!\n",
    "First let's create a stack with a random amount of nodes in a unsorted order with a lower and upper bound choosen by you!"
   ]
  },
  {
   "cell_type": "code",
   "execution_count": 1,
   "metadata": {},
   "outputs": [
    {
     "name": "stdout",
     "output_type": "stream",
     "text": [
      "Enter how many random numbers you would want in the stack: 5\n",
      "Enter the lower bound for the numbers: -50\n",
      "Enter the upper bound for the numbers: 50\n",
      "\n",
      "\n",
      "Here is the string representation of our stack\n",
      "\n",
      "\t------------ TOP ------------\n",
      "Node : 1\n",
      "\n",
      "----------------------------------------------------\n",
      "This Node has the following attributes: \n",
      "\tdata: -27 \n",
      "\tnext data: -9 \n",
      "\tprev data: None\n",
      "----------------------------------------------------\n",
      "Node : 2\n",
      "\n",
      "----------------------------------------------------\n",
      "This Node has the following attributes: \n",
      "\tdata: -9 \n",
      "\tnext data: 31 \n",
      "\tprev data: -27\n",
      "----------------------------------------------------\n",
      "Node : 3\n",
      "\n",
      "----------------------------------------------------\n",
      "This Node has the following attributes: \n",
      "\tdata: 31 \n",
      "\tnext data: -26 \n",
      "\tprev data: -9\n",
      "----------------------------------------------------\n",
      "Node : 4\n",
      "\n",
      "----------------------------------------------------\n",
      "This Node has the following attributes: \n",
      "\tdata: -26 \n",
      "\tnext data: -34 \n",
      "\tprev data: 31\n",
      "----------------------------------------------------\n",
      "Node : 5\n",
      "\n",
      "----------------------------------------------------\n",
      "This Node has the following attributes: \n",
      "\tdata: -34 \n",
      "\tnext data: None \n",
      "\tprev data: -26\n",
      "----------------------------------------------------\n",
      "\t----------- BOTTOM -----------\n",
      "\n"
     ]
    }
   ],
   "source": [
    "import random\n",
    "from Stack import Stack\n",
    "stack = Stack() #creating a new linked list\n",
    "nums = int(input(\"Enter how many random numbers you would want in the stack: \"))\n",
    "low = int(input(\"Enter the lower bound for the numbers: \"))\n",
    "high = int(input(\"Enter the upper bound for the numbers: \"))\n",
    "for num in range(nums):\n",
    "    stack.push(random.randint(low,high))\n",
    "print(\"\\n\\nHere is the string representation of our stack\")\n",
    "print(stack)"
   ]
  },
  {
   "cell_type": "markdown",
   "metadata": {},
   "source": [
    "### Let's pop the stack!"
   ]
  },
  {
   "cell_type": "code",
   "execution_count": 2,
   "metadata": {},
   "outputs": [
    {
     "name": "stdout",
     "output_type": "stream",
     "text": [
      "\n",
      "\t------------ TOP ------------\n",
      "Node : 1\n",
      "\n",
      "----------------------------------------------------\n",
      "This Node has the following attributes: \n",
      "\tdata: -9 \n",
      "\tnext data: 31 \n",
      "\tprev data: None\n",
      "----------------------------------------------------\n",
      "Node : 2\n",
      "\n",
      "----------------------------------------------------\n",
      "This Node has the following attributes: \n",
      "\tdata: 31 \n",
      "\tnext data: -26 \n",
      "\tprev data: -9\n",
      "----------------------------------------------------\n",
      "Node : 3\n",
      "\n",
      "----------------------------------------------------\n",
      "This Node has the following attributes: \n",
      "\tdata: -26 \n",
      "\tnext data: -34 \n",
      "\tprev data: 31\n",
      "----------------------------------------------------\n",
      "Node : 4\n",
      "\n",
      "----------------------------------------------------\n",
      "This Node has the following attributes: \n",
      "\tdata: -34 \n",
      "\tnext data: None \n",
      "\tprev data: -26\n",
      "----------------------------------------------------\n",
      "\t----------- BOTTOM -----------\n",
      "\n"
     ]
    }
   ],
   "source": [
    "stack.pop()\n",
    "print(stack)"
   ]
  },
  {
   "cell_type": "markdown",
   "metadata": {},
   "source": [
    "### Let's push to our stack!"
   ]
  },
  {
   "cell_type": "code",
   "execution_count": 3,
   "metadata": {},
   "outputs": [
    {
     "name": "stdout",
     "output_type": "stream",
     "text": [
      "\n",
      "\t------------ TOP ------------\n",
      "Node : 1\n",
      "\n",
      "----------------------------------------------------\n",
      "This Node has the following attributes: \n",
      "\tdata: 10 \n",
      "\tnext data: -9 \n",
      "\tprev data: None\n",
      "----------------------------------------------------\n",
      "Node : 2\n",
      "\n",
      "----------------------------------------------------\n",
      "This Node has the following attributes: \n",
      "\tdata: -9 \n",
      "\tnext data: 31 \n",
      "\tprev data: 10\n",
      "----------------------------------------------------\n",
      "Node : 3\n",
      "\n",
      "----------------------------------------------------\n",
      "This Node has the following attributes: \n",
      "\tdata: 31 \n",
      "\tnext data: -26 \n",
      "\tprev data: -9\n",
      "----------------------------------------------------\n",
      "Node : 4\n",
      "\n",
      "----------------------------------------------------\n",
      "This Node has the following attributes: \n",
      "\tdata: -26 \n",
      "\tnext data: -34 \n",
      "\tprev data: 31\n",
      "----------------------------------------------------\n",
      "Node : 5\n",
      "\n",
      "----------------------------------------------------\n",
      "This Node has the following attributes: \n",
      "\tdata: -34 \n",
      "\tnext data: None \n",
      "\tprev data: -26\n",
      "----------------------------------------------------\n",
      "\t----------- BOTTOM -----------\n",
      "\n"
     ]
    }
   ],
   "source": [
    "stack.push(10)\n",
    "print(stack)"
   ]
  },
  {
   "cell_type": "markdown",
   "metadata": {},
   "source": [
    "### Let's check the size of our stack!"
   ]
  },
  {
   "cell_type": "code",
   "execution_count": 4,
   "metadata": {},
   "outputs": [
    {
     "data": {
      "text/plain": [
       "5"
      ]
     },
     "execution_count": 4,
     "metadata": {},
     "output_type": "execute_result"
    }
   ],
   "source": [
    "stack.size()"
   ]
  },
  {
   "cell_type": "markdown",
   "metadata": {},
   "source": [
    "### Let's check if our stack is empty!"
   ]
  },
  {
   "cell_type": "code",
   "execution_count": 5,
   "metadata": {},
   "outputs": [
    {
     "data": {
      "text/plain": [
       "False"
      ]
     },
     "execution_count": 5,
     "metadata": {},
     "output_type": "execute_result"
    }
   ],
   "source": [
    "stack.isEmpty()"
   ]
  },
  {
   "cell_type": "markdown",
   "metadata": {},
   "source": [
    "### Let's peek into our stack."
   ]
  },
  {
   "cell_type": "code",
   "execution_count": 6,
   "metadata": {},
   "outputs": [
    {
     "data": {
      "text/plain": [
       "10"
      ]
     },
     "execution_count": 6,
     "metadata": {},
     "output_type": "execute_result"
    }
   ],
   "source": [
    "stack.peek()"
   ]
  },
  {
   "cell_type": "markdown",
   "metadata": {},
   "source": [
    "### Let's try to use the len() function."
   ]
  },
  {
   "cell_type": "code",
   "execution_count": 7,
   "metadata": {},
   "outputs": [
    {
     "data": {
      "text/plain": [
       "5"
      ]
     },
     "execution_count": 7,
     "metadata": {},
     "output_type": "execute_result"
    }
   ],
   "source": [
    "len(stack)"
   ]
  },
  {
   "cell_type": "markdown",
   "metadata": {},
   "source": [
    "### Functionality of the Stack class.\n",
    "Note the code for the functions will not be seen here. You will need to go to the .py files for that"
   ]
  },
  {
   "cell_type": "code",
   "execution_count": 8,
   "metadata": {},
   "outputs": [
    {
     "name": "stdout",
     "output_type": "stream",
     "text": [
      "Help on class Stack in module Stack:\n",
      "\n",
      "class Stack(builtins.object)\n",
      " |  Methods defined here:\n",
      " |  \n",
      " |  __init__(self, head=None)\n",
      " |      A constructor for our stack.\n",
      " |      \n",
      " |      INPUT:\n",
      " |          head: Head of a chain of nodes (if applicable).\n",
      " |      OUTPUT:\n",
      " |          Stack\n",
      " |      \n",
      " |      We defined one class variables:\n",
      " |      stack = A linked list, that is composed of variables such as size, nodes, and functionality that\n",
      " |      can be seen in the linked list folder. The head variable can automatically be initialized from an \n",
      " |      existing chain of nodes. Check out initializer() in the linked list class.\n",
      " |  \n",
      " |  __len__(self)\n",
      " |      This function will return the size of our stack. It allows us to use len() on this class\n",
      " |      INPUT: None\n",
      " |      OUTPUT:\n",
      " |          The size of our stack\n",
      " |      \n",
      " |      Runtime : O(1) -- Size in constant time because all we are doing is returning a variable from the linked\n",
      " |      list class. This is a instance variable part of the linked list class. It does not take time to find the\n",
      " |      length of the linked list because we keep track of it through out the lifecycle of the linked list.\n",
      " |  \n",
      " |  __str__(self)\n",
      " |      This function will give us a string representation of our stack.\n",
      " |      INPUT: None\n",
      " |      OUTPUT:\n",
      " |          String representation of our stack\n",
      " |      \n",
      " |      Runtime : O(n) -- This runs in time proportional to n because we are\n",
      " |      iterating through every node in our linked list. This costs O(n) time.\n",
      " |  \n",
      " |  isEmpty(self)\n",
      " |      This function will check if our stack is empty\n",
      " |      INPUT: None\n",
      " |      OUTPUT:\n",
      " |          True if empty. False if not empty\n",
      " |      \n",
      " |      Runtime : O(1) -- isEmpty runs in constant time because all we are doing is checking whether our length\n",
      " |      is 0. This is a instance variable part of the linked list class. It does not take time to find the\n",
      " |      length of the linked list because we keep track of it through out the lifecycle of the linked list.\n",
      " |  \n",
      " |  peek(self)\n",
      " |      This function will return the first data point in our stack. It does not return the node, rather just the\n",
      " |      data.\n",
      " |      INPUT: None\n",
      " |      OUTPUT:\n",
      " |          Data in the top node.\n",
      " |      \n",
      " |      Runtime : O(1) -- Peek runs in constant time because all we are doing is returning the data held in\n",
      " |      the top most node aka the head.\n",
      " |  \n",
      " |  pop(self)\n",
      " |      This function will delete a node from our stack.\n",
      " |      INPUT: None\n",
      " |      OUTPUT:\n",
      " |          The data that will be deleted\n",
      " |      \n",
      " |      Runtime : O(1) -- Pop runs in constant time because all we are doing is deleting a existing node\n",
      " |      from the front of our stack or our linked list. This takes constant time.\n",
      " |  \n",
      " |  push(self, data)\n",
      " |      This function will appened a new node onto our stack.\n",
      " |      INPUT:\n",
      " |          data = Data to be stored\n",
      " |      OUTPUT:\n",
      " |          Stack with new node on top\n",
      " |      \n",
      " |      Runtime : O(1) -- Push runs in constant time because all we are doing is appending a new node\n",
      " |      to the front of our stack or our linked list. This takes constant time.\n",
      " |  \n",
      " |  size(self)\n",
      " |      This function will return the size of our stack.\n",
      " |      INPUT: None\n",
      " |      OUTPUT:\n",
      " |          The size of our stack\n",
      " |      \n",
      " |      Runtime : O(1) -- Size in constant time because all we are doing is returning a variable from the linked\n",
      " |      list class. This is a instance variable part of the linked list class. It does not take time to find the\n",
      " |      length of the linked list because we keep track of it through out the lifecycle of the linked list.\n",
      " |  \n",
      " |  ----------------------------------------------------------------------\n",
      " |  Data descriptors defined here:\n",
      " |  \n",
      " |  __dict__\n",
      " |      dictionary for instance variables (if defined)\n",
      " |  \n",
      " |  __weakref__\n",
      " |      list of weak references to the object (if defined)\n",
      "\n"
     ]
    },
    {
     "data": {
      "text/plain": [
       "['__bool__',\n",
       " '__class__',\n",
       " '__delattr__',\n",
       " '__dir__',\n",
       " '__doc__',\n",
       " '__eq__',\n",
       " '__format__',\n",
       " '__ge__',\n",
       " '__getattribute__',\n",
       " '__gt__',\n",
       " '__hash__',\n",
       " '__init__',\n",
       " '__init_subclass__',\n",
       " '__le__',\n",
       " '__lt__',\n",
       " '__ne__',\n",
       " '__new__',\n",
       " '__reduce__',\n",
       " '__reduce_ex__',\n",
       " '__repr__',\n",
       " '__setattr__',\n",
       " '__sizeof__',\n",
       " '__str__',\n",
       " '__subclasshook__']"
      ]
     },
     "execution_count": 8,
     "metadata": {},
     "output_type": "execute_result"
    }
   ],
   "source": [
    "dir(help(Stack))"
   ]
  }
 ],
 "metadata": {
  "kernelspec": {
   "display_name": "Python 3",
   "language": "python",
   "name": "python3"
  },
  "language_info": {
   "codemirror_mode": {
    "name": "ipython",
    "version": 3
   },
   "file_extension": ".py",
   "mimetype": "text/x-python",
   "name": "python",
   "nbconvert_exporter": "python",
   "pygments_lexer": "ipython3",
   "version": "3.6.1"
  }
 },
 "nbformat": 4,
 "nbformat_minor": 2
}
